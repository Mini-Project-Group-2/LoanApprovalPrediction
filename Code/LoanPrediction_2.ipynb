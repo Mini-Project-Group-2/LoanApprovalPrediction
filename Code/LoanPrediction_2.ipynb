{
 "cells": [
  {
   "cell_type": "markdown",
   "id": "ca545be9",
   "metadata": {},
   "source": [
    "# Importing Libraries"
   ]
  },
  {
   "cell_type": "code",
   "execution_count": 1,
   "id": "c63f2e27",
   "metadata": {},
   "outputs": [],
   "source": [
    "import numpy as np\n",
    "import matplotlib.pyplot as plt\n",
    "import pandas as pd\n",
    "import seaborn as sns\n",
    "\n",
    "from sklearn.linear_model import LogisticRegression"
   ]
  },
  {
   "cell_type": "code",
   "execution_count": 2,
   "id": "a3cf234f",
   "metadata": {},
   "outputs": [
    {
     "name": "stdout",
     "output_type": "stream",
     "text": [
      "Requirement already satisfied: sklearn in c:\\users\\cheki\\anaconda3\\lib\\site-packages (0.0)\n",
      "Requirement already satisfied: scikit-learn in c:\\users\\cheki\\anaconda3\\lib\\site-packages (from sklearn) (0.24.2)\n",
      "Requirement already satisfied: numpy>=1.13.3 in c:\\users\\cheki\\anaconda3\\lib\\site-packages (from scikit-learn->sklearn) (1.20.3)\n",
      "Requirement already satisfied: scipy>=0.19.1 in c:\\users\\cheki\\anaconda3\\lib\\site-packages (from scikit-learn->sklearn) (1.7.1)\n",
      "Requirement already satisfied: joblib>=0.11 in c:\\users\\cheki\\anaconda3\\lib\\site-packages (from scikit-learn->sklearn) (1.1.0)\n",
      "Requirement already satisfied: threadpoolctl>=2.0.0 in c:\\users\\cheki\\anaconda3\\lib\\site-packages (from scikit-learn->sklearn) (2.2.0)\n",
      "Note: you may need to restart the kernel to use updated packages.\n"
     ]
    }
   ],
   "source": [
    "pip install sklearn"
   ]
  },
  {
   "cell_type": "code",
   "execution_count": 3,
   "id": "262a95df",
   "metadata": {},
   "outputs": [
    {
     "name": "stdout",
     "output_type": "stream",
     "text": [
      "0.24.2\n"
     ]
    }
   ],
   "source": [
    "import sklearn\n",
    "print(sklearn.__version__)"
   ]
  },
  {
   "cell_type": "markdown",
   "id": "c33f3c79",
   "metadata": {},
   "source": [
    "# Loading Data"
   ]
  },
  {
   "cell_type": "code",
   "execution_count": 4,
   "id": "86c94e61",
   "metadata": {
    "scrolled": true
   },
   "outputs": [
    {
     "data": {
      "text/html": [
       "<div>\n",
       "<style scoped>\n",
       "    .dataframe tbody tr th:only-of-type {\n",
       "        vertical-align: middle;\n",
       "    }\n",
       "\n",
       "    .dataframe tbody tr th {\n",
       "        vertical-align: top;\n",
       "    }\n",
       "\n",
       "    .dataframe thead th {\n",
       "        text-align: right;\n",
       "    }\n",
       "</style>\n",
       "<table border=\"1\" class=\"dataframe\">\n",
       "  <thead>\n",
       "    <tr style=\"text-align: right;\">\n",
       "      <th></th>\n",
       "      <th>Loan_ID</th>\n",
       "      <th>Gender</th>\n",
       "      <th>Married</th>\n",
       "      <th>Dependents</th>\n",
       "      <th>Education</th>\n",
       "      <th>Self_Employed</th>\n",
       "      <th>ApplicantIncome</th>\n",
       "      <th>CoapplicantIncome</th>\n",
       "      <th>LoanAmount</th>\n",
       "      <th>Loan_Amount_Term</th>\n",
       "      <th>Credit_History</th>\n",
       "      <th>Property_Area</th>\n",
       "      <th>Loan_Status</th>\n",
       "    </tr>\n",
       "  </thead>\n",
       "  <tbody>\n",
       "    <tr>\n",
       "      <th>0</th>\n",
       "      <td>LP001002</td>\n",
       "      <td>Male</td>\n",
       "      <td>No</td>\n",
       "      <td>0</td>\n",
       "      <td>Graduate</td>\n",
       "      <td>No</td>\n",
       "      <td>5849</td>\n",
       "      <td>0.0</td>\n",
       "      <td>NaN</td>\n",
       "      <td>360.0</td>\n",
       "      <td>1.0</td>\n",
       "      <td>Urban</td>\n",
       "      <td>Y</td>\n",
       "    </tr>\n",
       "    <tr>\n",
       "      <th>1</th>\n",
       "      <td>LP001003</td>\n",
       "      <td>Male</td>\n",
       "      <td>Yes</td>\n",
       "      <td>1</td>\n",
       "      <td>Graduate</td>\n",
       "      <td>No</td>\n",
       "      <td>4583</td>\n",
       "      <td>1508.0</td>\n",
       "      <td>128.0</td>\n",
       "      <td>360.0</td>\n",
       "      <td>1.0</td>\n",
       "      <td>Rural</td>\n",
       "      <td>N</td>\n",
       "    </tr>\n",
       "    <tr>\n",
       "      <th>2</th>\n",
       "      <td>LP001005</td>\n",
       "      <td>Male</td>\n",
       "      <td>Yes</td>\n",
       "      <td>0</td>\n",
       "      <td>Graduate</td>\n",
       "      <td>Yes</td>\n",
       "      <td>3000</td>\n",
       "      <td>0.0</td>\n",
       "      <td>66.0</td>\n",
       "      <td>360.0</td>\n",
       "      <td>1.0</td>\n",
       "      <td>Urban</td>\n",
       "      <td>Y</td>\n",
       "    </tr>\n",
       "    <tr>\n",
       "      <th>3</th>\n",
       "      <td>LP001006</td>\n",
       "      <td>Male</td>\n",
       "      <td>Yes</td>\n",
       "      <td>0</td>\n",
       "      <td>Not Graduate</td>\n",
       "      <td>No</td>\n",
       "      <td>2583</td>\n",
       "      <td>2358.0</td>\n",
       "      <td>120.0</td>\n",
       "      <td>360.0</td>\n",
       "      <td>1.0</td>\n",
       "      <td>Urban</td>\n",
       "      <td>Y</td>\n",
       "    </tr>\n",
       "    <tr>\n",
       "      <th>4</th>\n",
       "      <td>LP001008</td>\n",
       "      <td>Male</td>\n",
       "      <td>No</td>\n",
       "      <td>0</td>\n",
       "      <td>Graduate</td>\n",
       "      <td>No</td>\n",
       "      <td>6000</td>\n",
       "      <td>0.0</td>\n",
       "      <td>141.0</td>\n",
       "      <td>360.0</td>\n",
       "      <td>1.0</td>\n",
       "      <td>Urban</td>\n",
       "      <td>Y</td>\n",
       "    </tr>\n",
       "  </tbody>\n",
       "</table>\n",
       "</div>"
      ],
      "text/plain": [
       "    Loan_ID Gender Married Dependents     Education Self_Employed  \\\n",
       "0  LP001002   Male      No          0      Graduate            No   \n",
       "1  LP001003   Male     Yes          1      Graduate            No   \n",
       "2  LP001005   Male     Yes          0      Graduate           Yes   \n",
       "3  LP001006   Male     Yes          0  Not Graduate            No   \n",
       "4  LP001008   Male      No          0      Graduate            No   \n",
       "\n",
       "   ApplicantIncome  CoapplicantIncome  LoanAmount  Loan_Amount_Term  \\\n",
       "0             5849                0.0         NaN             360.0   \n",
       "1             4583             1508.0       128.0             360.0   \n",
       "2             3000                0.0        66.0             360.0   \n",
       "3             2583             2358.0       120.0             360.0   \n",
       "4             6000                0.0       141.0             360.0   \n",
       "\n",
       "   Credit_History Property_Area Loan_Status  \n",
       "0             1.0         Urban           Y  \n",
       "1             1.0         Rural           N  \n",
       "2             1.0         Urban           Y  \n",
       "3             1.0         Urban           Y  \n",
       "4             1.0         Urban           Y  "
      ]
     },
     "execution_count": 4,
     "metadata": {},
     "output_type": "execute_result"
    }
   ],
   "source": [
    "df = pd.read_csv('Loan Prediction.csv')\n",
    "df.head()"
   ]
  },
  {
   "cell_type": "code",
   "execution_count": 5,
   "id": "92420a86",
   "metadata": {},
   "outputs": [
    {
     "data": {
      "text/plain": [
       "Loan_ID               object\n",
       "Gender                object\n",
       "Married               object\n",
       "Dependents            object\n",
       "Education             object\n",
       "Self_Employed         object\n",
       "ApplicantIncome        int64\n",
       "CoapplicantIncome    float64\n",
       "LoanAmount           float64\n",
       "Loan_Amount_Term     float64\n",
       "Credit_History       float64\n",
       "Property_Area         object\n",
       "Loan_Status           object\n",
       "dtype: object"
      ]
     },
     "execution_count": 5,
     "metadata": {},
     "output_type": "execute_result"
    }
   ],
   "source": [
    "df.dtypes"
   ]
  },
  {
   "cell_type": "code",
   "execution_count": 6,
   "id": "e807cee3",
   "metadata": {},
   "outputs": [
    {
     "name": "stdout",
     "output_type": "stream",
     "text": [
      "Missing Values \n",
      " Loan_ID               0\n",
      "Gender               13\n",
      "Married               3\n",
      "Dependents           15\n",
      "Education             0\n",
      "Self_Employed        32\n",
      "ApplicantIncome       0\n",
      "CoapplicantIncome     0\n",
      "LoanAmount           22\n",
      "Loan_Amount_Term     14\n",
      "Credit_History       50\n",
      "Property_Area         0\n",
      "Loan_Status           0\n",
      "dtype: int64\n"
     ]
    }
   ],
   "source": [
    "print('Missing Values \\n', df.isna().sum())"
   ]
  },
  {
   "cell_type": "code",
   "execution_count": 7,
   "id": "edde0e72",
   "metadata": {},
   "outputs": [
    {
     "data": {
      "text/plain": [
       "Loan_ID               object\n",
       "Gender                object\n",
       "Married               object\n",
       "Dependents            object\n",
       "Education             object\n",
       "Self_Employed         object\n",
       "ApplicantIncome        int64\n",
       "CoapplicantIncome    float64\n",
       "LoanAmount           float64\n",
       "Loan_Amount_Term     float64\n",
       "Credit_History       float64\n",
       "Property_Area         object\n",
       "Loan_Status           object\n",
       "dtype: object"
      ]
     },
     "execution_count": 7,
     "metadata": {},
     "output_type": "execute_result"
    }
   ],
   "source": [
    "df.dtypes"
   ]
  },
  {
   "cell_type": "code",
   "execution_count": 8,
   "id": "c88674c1",
   "metadata": {},
   "outputs": [
    {
     "data": {
      "text/plain": [
       "array(['0', '1', '2', '3+', nan], dtype=object)"
      ]
     },
     "execution_count": 8,
     "metadata": {},
     "output_type": "execute_result"
    }
   ],
   "source": [
    "df.Dependents.unique()"
   ]
  },
  {
   "cell_type": "code",
   "execution_count": 9,
   "id": "7fc39501",
   "metadata": {},
   "outputs": [],
   "source": [
    "df = df.replace({\n",
    "    'Dependents':'[+]'\n",
    "},'',regex=True)\n"
   ]
  },
  {
   "cell_type": "code",
   "execution_count": 10,
   "id": "af92df98",
   "metadata": {},
   "outputs": [
    {
     "data": {
      "text/plain": [
       "array(['0', '1', '2', '3', nan], dtype=object)"
      ]
     },
     "execution_count": 10,
     "metadata": {},
     "output_type": "execute_result"
    }
   ],
   "source": [
    "df.Dependents.unique()"
   ]
  },
  {
   "cell_type": "markdown",
   "id": "f497583f",
   "metadata": {},
   "source": [
    "# Data Engineering\n",
    "\n",
    "\n",
    "1.   Seperate the features from the label\n",
    "2.   Handling missing values\n",
    "3.   Handle the Categorical and Numeric data sepearately\n",
    "3.   Normalisation of data, Encode the data, data transformation\n",
    "\n"
   ]
  },
  {
   "cell_type": "code",
   "execution_count": 11,
   "id": "fadc1c43",
   "metadata": {},
   "outputs": [
    {
     "data": {
      "text/html": [
       "<div>\n",
       "<style scoped>\n",
       "    .dataframe tbody tr th:only-of-type {\n",
       "        vertical-align: middle;\n",
       "    }\n",
       "\n",
       "    .dataframe tbody tr th {\n",
       "        vertical-align: top;\n",
       "    }\n",
       "\n",
       "    .dataframe thead th {\n",
       "        text-align: right;\n",
       "    }\n",
       "</style>\n",
       "<table border=\"1\" class=\"dataframe\">\n",
       "  <thead>\n",
       "    <tr style=\"text-align: right;\">\n",
       "      <th></th>\n",
       "      <th>Dependents</th>\n",
       "      <th>Education</th>\n",
       "      <th>Self_Employed</th>\n",
       "      <th>ApplicantIncome</th>\n",
       "      <th>CoapplicantIncome</th>\n",
       "      <th>LoanAmount</th>\n",
       "      <th>Loan_Amount_Term</th>\n",
       "      <th>Credit_History</th>\n",
       "      <th>Property_Area</th>\n",
       "      <th>Loan_Status</th>\n",
       "    </tr>\n",
       "  </thead>\n",
       "  <tbody>\n",
       "    <tr>\n",
       "      <th>0</th>\n",
       "      <td>0</td>\n",
       "      <td>Graduate</td>\n",
       "      <td>No</td>\n",
       "      <td>5849</td>\n",
       "      <td>0.0</td>\n",
       "      <td>NaN</td>\n",
       "      <td>360.0</td>\n",
       "      <td>1.0</td>\n",
       "      <td>Urban</td>\n",
       "      <td>Y</td>\n",
       "    </tr>\n",
       "    <tr>\n",
       "      <th>1</th>\n",
       "      <td>1</td>\n",
       "      <td>Graduate</td>\n",
       "      <td>No</td>\n",
       "      <td>4583</td>\n",
       "      <td>1508.0</td>\n",
       "      <td>128.0</td>\n",
       "      <td>360.0</td>\n",
       "      <td>1.0</td>\n",
       "      <td>Rural</td>\n",
       "      <td>N</td>\n",
       "    </tr>\n",
       "    <tr>\n",
       "      <th>2</th>\n",
       "      <td>0</td>\n",
       "      <td>Graduate</td>\n",
       "      <td>Yes</td>\n",
       "      <td>3000</td>\n",
       "      <td>0.0</td>\n",
       "      <td>66.0</td>\n",
       "      <td>360.0</td>\n",
       "      <td>1.0</td>\n",
       "      <td>Urban</td>\n",
       "      <td>Y</td>\n",
       "    </tr>\n",
       "    <tr>\n",
       "      <th>3</th>\n",
       "      <td>0</td>\n",
       "      <td>Not Graduate</td>\n",
       "      <td>No</td>\n",
       "      <td>2583</td>\n",
       "      <td>2358.0</td>\n",
       "      <td>120.0</td>\n",
       "      <td>360.0</td>\n",
       "      <td>1.0</td>\n",
       "      <td>Urban</td>\n",
       "      <td>Y</td>\n",
       "    </tr>\n",
       "    <tr>\n",
       "      <th>4</th>\n",
       "      <td>0</td>\n",
       "      <td>Graduate</td>\n",
       "      <td>No</td>\n",
       "      <td>6000</td>\n",
       "      <td>0.0</td>\n",
       "      <td>141.0</td>\n",
       "      <td>360.0</td>\n",
       "      <td>1.0</td>\n",
       "      <td>Urban</td>\n",
       "      <td>Y</td>\n",
       "    </tr>\n",
       "  </tbody>\n",
       "</table>\n",
       "</div>"
      ],
      "text/plain": [
       "  Dependents     Education Self_Employed  ApplicantIncome  CoapplicantIncome  \\\n",
       "0          0      Graduate            No             5849                0.0   \n",
       "1          1      Graduate            No             4583             1508.0   \n",
       "2          0      Graduate           Yes             3000                0.0   \n",
       "3          0  Not Graduate            No             2583             2358.0   \n",
       "4          0      Graduate            No             6000                0.0   \n",
       "\n",
       "   LoanAmount  Loan_Amount_Term  Credit_History Property_Area Loan_Status  \n",
       "0         NaN             360.0             1.0         Urban           Y  \n",
       "1       128.0             360.0             1.0         Rural           N  \n",
       "2        66.0             360.0             1.0         Urban           Y  \n",
       "3       120.0             360.0             1.0         Urban           Y  \n",
       "4       141.0             360.0             1.0         Urban           Y  "
      ]
     },
     "execution_count": 11,
     "metadata": {},
     "output_type": "execute_result"
    }
   ],
   "source": [
    "df = df.drop(['Loan_ID', 'Gender', 'Married'], axis = 1)\n",
    "df.head()"
   ]
  },
  {
   "cell_type": "code",
   "execution_count": 12,
   "id": "e86e736f",
   "metadata": {},
   "outputs": [
    {
     "name": "stdout",
     "output_type": "stream",
     "text": [
      "  Dependents     Education Self_Employed  ApplicantIncome  CoapplicantIncome  \\\n",
      "0          0      Graduate            No             5849                0.0   \n",
      "1          1      Graduate            No             4583             1508.0   \n",
      "2          0      Graduate           Yes             3000                0.0   \n",
      "3          0  Not Graduate            No             2583             2358.0   \n",
      "4          0      Graduate            No             6000                0.0   \n",
      "\n",
      "   LoanAmount  Loan_Amount_Term  Credit_History Property_Area  \n",
      "0         NaN             360.0             1.0         Urban  \n",
      "1       128.0             360.0             1.0         Rural  \n",
      "2        66.0             360.0             1.0         Urban  \n",
      "3       120.0             360.0             1.0         Urban  \n",
      "4       141.0             360.0             1.0         Urban  \n",
      "0    Y\n",
      "1    N\n",
      "2    Y\n",
      "3    Y\n",
      "4    Y\n",
      "Name: Loan_Status, dtype: object\n"
     ]
    }
   ],
   "source": [
    "X = df.drop('Loan_Status', axis=1)\n",
    "y = df['Loan_Status']\n",
    "\n",
    "print(X.head())\n",
    "print(y.head())"
   ]
  },
  {
   "cell_type": "code",
   "execution_count": 13,
   "id": "06047a57",
   "metadata": {},
   "outputs": [
    {
     "data": {
      "text/html": [
       "<div>\n",
       "<style scoped>\n",
       "    .dataframe tbody tr th:only-of-type {\n",
       "        vertical-align: middle;\n",
       "    }\n",
       "\n",
       "    .dataframe tbody tr th {\n",
       "        vertical-align: top;\n",
       "    }\n",
       "\n",
       "    .dataframe thead th {\n",
       "        text-align: right;\n",
       "    }\n",
       "</style>\n",
       "<table border=\"1\" class=\"dataframe\">\n",
       "  <thead>\n",
       "    <tr style=\"text-align: right;\">\n",
       "      <th></th>\n",
       "      <th>Dependents</th>\n",
       "      <th>Education</th>\n",
       "      <th>Self_Employed</th>\n",
       "      <th>ApplicantIncome</th>\n",
       "      <th>CoapplicantIncome</th>\n",
       "      <th>LoanAmount</th>\n",
       "      <th>Loan_Amount_Term</th>\n",
       "      <th>Credit_History</th>\n",
       "      <th>Property_Area</th>\n",
       "    </tr>\n",
       "  </thead>\n",
       "  <tbody>\n",
       "    <tr>\n",
       "      <th>0</th>\n",
       "      <td>0</td>\n",
       "      <td>Graduate</td>\n",
       "      <td>No</td>\n",
       "      <td>5849</td>\n",
       "      <td>0.0</td>\n",
       "      <td>NaN</td>\n",
       "      <td>360.0</td>\n",
       "      <td>1.0</td>\n",
       "      <td>Urban</td>\n",
       "    </tr>\n",
       "    <tr>\n",
       "      <th>1</th>\n",
       "      <td>1</td>\n",
       "      <td>Graduate</td>\n",
       "      <td>No</td>\n",
       "      <td>4583</td>\n",
       "      <td>1508.0</td>\n",
       "      <td>128.0</td>\n",
       "      <td>360.0</td>\n",
       "      <td>1.0</td>\n",
       "      <td>Rural</td>\n",
       "    </tr>\n",
       "    <tr>\n",
       "      <th>2</th>\n",
       "      <td>0</td>\n",
       "      <td>Graduate</td>\n",
       "      <td>Yes</td>\n",
       "      <td>3000</td>\n",
       "      <td>0.0</td>\n",
       "      <td>66.0</td>\n",
       "      <td>360.0</td>\n",
       "      <td>1.0</td>\n",
       "      <td>Urban</td>\n",
       "    </tr>\n",
       "    <tr>\n",
       "      <th>3</th>\n",
       "      <td>0</td>\n",
       "      <td>Not Graduate</td>\n",
       "      <td>No</td>\n",
       "      <td>2583</td>\n",
       "      <td>2358.0</td>\n",
       "      <td>120.0</td>\n",
       "      <td>360.0</td>\n",
       "      <td>1.0</td>\n",
       "      <td>Urban</td>\n",
       "    </tr>\n",
       "    <tr>\n",
       "      <th>4</th>\n",
       "      <td>0</td>\n",
       "      <td>Graduate</td>\n",
       "      <td>No</td>\n",
       "      <td>6000</td>\n",
       "      <td>0.0</td>\n",
       "      <td>141.0</td>\n",
       "      <td>360.0</td>\n",
       "      <td>1.0</td>\n",
       "      <td>Urban</td>\n",
       "    </tr>\n",
       "  </tbody>\n",
       "</table>\n",
       "</div>"
      ],
      "text/plain": [
       "  Dependents     Education Self_Employed  ApplicantIncome  CoapplicantIncome  \\\n",
       "0          0      Graduate            No             5849                0.0   \n",
       "1          1      Graduate            No             4583             1508.0   \n",
       "2          0      Graduate           Yes             3000                0.0   \n",
       "3          0  Not Graduate            No             2583             2358.0   \n",
       "4          0      Graduate            No             6000                0.0   \n",
       "\n",
       "   LoanAmount  Loan_Amount_Term  Credit_History Property_Area  \n",
       "0         NaN             360.0             1.0         Urban  \n",
       "1       128.0             360.0             1.0         Rural  \n",
       "2        66.0             360.0             1.0         Urban  \n",
       "3       120.0             360.0             1.0         Urban  \n",
       "4       141.0             360.0             1.0         Urban  "
      ]
     },
     "execution_count": 13,
     "metadata": {},
     "output_type": "execute_result"
    }
   ],
   "source": [
    "X.head()"
   ]
  },
  {
   "cell_type": "code",
   "execution_count": 14,
   "id": "2a5b7e43",
   "metadata": {},
   "outputs": [
    {
     "data": {
      "text/plain": [
       "array(['Urban', 'Rural', 'Semiurban'], dtype=object)"
      ]
     },
     "execution_count": 14,
     "metadata": {},
     "output_type": "execute_result"
    }
   ],
   "source": [
    "X.Property_Area.unique()"
   ]
  },
  {
   "cell_type": "code",
   "execution_count": 15,
   "id": "4fe6e3a9",
   "metadata": {},
   "outputs": [
    {
     "data": {
      "text/plain": [
       "(614, 9)"
      ]
     },
     "execution_count": 15,
     "metadata": {},
     "output_type": "execute_result"
    }
   ],
   "source": [
    "X.shape"
   ]
  },
  {
   "cell_type": "code",
   "execution_count": 16,
   "id": "5b2ce131",
   "metadata": {},
   "outputs": [],
   "source": [
    "#Split the data into training and testing sets\n",
    "from sklearn.model_selection import train_test_split\n",
    "X_train, x_test, Y_train, y_test = train_test_split(X, y , test_size = 0.30, shuffle = True)"
   ]
  },
  {
   "cell_type": "code",
   "execution_count": 17,
   "id": "37b82bef",
   "metadata": {},
   "outputs": [
    {
     "data": {
      "text/plain": [
       "(429, 9)"
      ]
     },
     "execution_count": 17,
     "metadata": {},
     "output_type": "execute_result"
    }
   ],
   "source": [
    "X_train.shape"
   ]
  },
  {
   "cell_type": "markdown",
   "id": "6c21e887",
   "metadata": {},
   "source": [
    "# Creating Pipeline for the model"
   ]
  },
  {
   "cell_type": "code",
   "execution_count": 18,
   "id": "747aaecc",
   "metadata": {},
   "outputs": [],
   "source": [
    "#Pipeline is to create a sequence of preprocessing actions\n",
    "from sklearn.pipeline import Pipeline\n",
    "\n",
    "#SimpleImputer handles missing values\n",
    "from sklearn.impute import SimpleImputer\n",
    "\n",
    "#Standard Scaler normalise the numeric data so that large values does not\n",
    "#create biasness in the training\n",
    "\n",
    "#OneHotEndcoder converts categorical data to numerical, it also creates individual\n",
    "from sklearn.preprocessing import StandardScaler, OneHotEncoder, OrdinalEncoder"
   ]
  },
  {
   "cell_type": "code",
   "execution_count": 19,
   "id": "22f8c195",
   "metadata": {},
   "outputs": [
    {
     "name": "stdout",
     "output_type": "stream",
     "text": [
      "Index(['ApplicantIncome', 'CoapplicantIncome', 'LoanAmount',\n",
      "       'Loan_Amount_Term', 'Credit_History'],\n",
      "      dtype='object')\n",
      "Index(['Dependents', 'Education', 'Self_Employed', 'Property_Area'], dtype='object')\n"
     ]
    }
   ],
   "source": [
    "#Separate the Categorical and Numerical Columns\n",
    "#Numeric columns\n",
    "numeric_cols = X.select_dtypes(include=['int64','float64']).columns\n",
    "print(numeric_cols)\n",
    "\n",
    "#categorical columns\n",
    "categorical_cols = X.select_dtypes(include=['object']).columns\n",
    "print(categorical_cols)"
   ]
  },
  {
   "cell_type": "code",
   "execution_count": 20,
   "id": "00382834",
   "metadata": {},
   "outputs": [
    {
     "data": {
      "text/plain": [
       "[3, 4, 5, 6, 7]"
      ]
     },
     "execution_count": 20,
     "metadata": {},
     "output_type": "execute_result"
    }
   ],
   "source": [
    "numeric_index = [X.columns.get_loc(col) for col in numeric_cols]\n",
    "numeric_index"
   ]
  },
  {
   "cell_type": "code",
   "execution_count": 21,
   "id": "f329c742",
   "metadata": {},
   "outputs": [
    {
     "data": {
      "text/plain": [
       "[0, 1, 2, 8]"
      ]
     },
     "execution_count": 21,
     "metadata": {},
     "output_type": "execute_result"
    }
   ],
   "source": [
    "categorical_index = [X.columns.get_loc(col) for col in categorical_cols]\n",
    "categorical_index"
   ]
  },
  {
   "cell_type": "markdown",
   "id": "3a7e5e7e",
   "metadata": {},
   "source": [
    "###### `class sklearn.pipeline.Pipeline(steps, *, memory=None, verbose=False)`\n",
    "\n",
    "`steps = list of (name,transform) tuple `"
   ]
  },
  {
   "cell_type": "code",
   "execution_count": 22,
   "id": "6f7363f3",
   "metadata": {},
   "outputs": [],
   "source": [
    "#Building the Numeric Transformation Pipeline\n",
    "numeric_transformer = Pipeline(steps = [\n",
    "    ('imputer',SimpleImputer(strategy='median')), #Handline numeric missing value with median\n",
    "    ('scaler',StandardScaler()) #Normalize the data\n",
    "] )\n",
    "\n",
    "categorical_transformer = Pipeline(steps = [\n",
    "    ('imputeC',SimpleImputer(strategy='most_frequent')), #Handline numeric missing value with median\n",
    "    ('oneHot',OneHotEncoder(handle_unknown='ignore')) #Normalize the data\n",
    "] )\n"
   ]
  },
  {
   "cell_type": "markdown",
   "id": "cb836480",
   "metadata": {},
   "source": [
    "`class sklearn.compose.ColumnTransformer(transformers, *, remainder='drop', sparse_threshold=0.3, n_jobs=None, transformer_weights=None, verbose=False, verbose_feature_names_out=True)`\n",
    "\n",
    "`transformers: List of (name, transformer, columns) tuples specifying the transformer objects to be applied to subsets of the data.`\n",
    "\n"
   ]
  },
  {
   "cell_type": "code",
   "execution_count": 23,
   "id": "4189151e",
   "metadata": {},
   "outputs": [],
   "source": [
    "# #Combine the numeric and categorical transformers\n",
    "# from sklearn.compose import ColumnTransformer\n",
    "from sklearn.compose import ColumnTransformer\n",
    "preprocessor = ColumnTransformer(\n",
    "    transformers = [('numeric',numeric_transformer,numeric_index),\n",
    "                ('categorical',categorical_transformer,categorical_index)]\n",
    ")"
   ]
  },
  {
   "cell_type": "code",
   "execution_count": 24,
   "id": "fffa5b84",
   "metadata": {},
   "outputs": [],
   "source": [
    "#Create the estimator for training\n",
    "from sklearn.tree import DecisionTreeClassifier\n",
    "\n",
    "#Create the model\n",
    "dtmodel = DecisionTreeClassifier()"
   ]
  },
  {
   "cell_type": "code",
   "execution_count": 25,
   "id": "b54be13d",
   "metadata": {},
   "outputs": [],
   "source": [
    "# from sklearn.linear_model import LogisticRegression\n",
    "# estimater = LogisticRegression()"
   ]
  },
  {
   "cell_type": "code",
   "execution_count": 26,
   "id": "af3bd369",
   "metadata": {},
   "outputs": [],
   "source": [
    "#Assemble the individual blocks to form the main pipeline\n",
    "testmodel = Pipeline(\n",
    "    steps = [\n",
    "      ('preprocessor', preprocessor), #Preprocessing\n",
    "      ('classifier'  , dtmodel)  #Model\n",
    "    ]\n",
    ")"
   ]
  },
  {
   "cell_type": "code",
   "execution_count": 27,
   "id": "7313b2f2",
   "metadata": {},
   "outputs": [],
   "source": [
    "# pipelinemodel = Pipeline(steps=\n",
    "#                         [\n",
    "#                             ('prep', preprocessor),\n",
    "#                             ('est', estimater)\n",
    "#                         ])"
   ]
  },
  {
   "cell_type": "code",
   "execution_count": 28,
   "id": "c718824e",
   "metadata": {},
   "outputs": [
    {
     "data": {
      "text/plain": [
       "56     Y\n",
       "401    N\n",
       "67     Y\n",
       "197    Y\n",
       "613    N\n",
       "      ..\n",
       "52     N\n",
       "193    Y\n",
       "28     N\n",
       "485    Y\n",
       "194    Y\n",
       "Name: Loan_Status, Length: 429, dtype: object"
      ]
     },
     "execution_count": 28,
     "metadata": {},
     "output_type": "execute_result"
    }
   ],
   "source": [
    "Y_train"
   ]
  },
  {
   "cell_type": "code",
   "execution_count": 29,
   "id": "3623f15d",
   "metadata": {},
   "outputs": [],
   "source": [
    "X_train = X_train.values\n"
   ]
  },
  {
   "cell_type": "code",
   "execution_count": 30,
   "id": "3c892015",
   "metadata": {},
   "outputs": [],
   "source": [
    "x_test = x_test.values"
   ]
  },
  {
   "cell_type": "code",
   "execution_count": 31,
   "id": "3b611a6e",
   "metadata": {},
   "outputs": [
    {
     "data": {
      "text/plain": [
       "array([['0', 'Graduate', 'No', ..., 360.0, 1.0, 'Semiurban'],\n",
       "       ['0', 'Not Graduate', 'No', ..., 300.0, 1.0, 'Rural'],\n",
       "       ['1', 'Graduate', 'No', ..., 360.0, 1.0, 'Urban'],\n",
       "       ...,\n",
       "       ['0', 'Not Graduate', 'No', ..., 360.0, 1.0, 'Urban'],\n",
       "       ['1', 'Not Graduate', 'No', ..., 360.0, 1.0, 'Rural'],\n",
       "       ['0', 'Graduate', 'No', ..., 360.0, 1.0, 'Rural']], dtype=object)"
      ]
     },
     "execution_count": 31,
     "metadata": {},
     "output_type": "execute_result"
    }
   ],
   "source": [
    "X_train"
   ]
  },
  {
   "cell_type": "markdown",
   "id": "55463b1a",
   "metadata": {},
   "source": [
    "# Train the model"
   ]
  },
  {
   "cell_type": "code",
   "execution_count": 32,
   "id": "c4afd23b",
   "metadata": {
    "scrolled": false
   },
   "outputs": [
    {
     "data": {
      "text/html": [
       "<style>#sk-fbca75d0-93e5-4db1-ace3-9988f70960c0 {color: black;background-color: white;}#sk-fbca75d0-93e5-4db1-ace3-9988f70960c0 pre{padding: 0;}#sk-fbca75d0-93e5-4db1-ace3-9988f70960c0 div.sk-toggleable {background-color: white;}#sk-fbca75d0-93e5-4db1-ace3-9988f70960c0 label.sk-toggleable__label {cursor: pointer;display: block;width: 100%;margin-bottom: 0;padding: 0.2em 0.3em;box-sizing: border-box;text-align: center;}#sk-fbca75d0-93e5-4db1-ace3-9988f70960c0 div.sk-toggleable__content {max-height: 0;max-width: 0;overflow: hidden;text-align: left;background-color: #f0f8ff;}#sk-fbca75d0-93e5-4db1-ace3-9988f70960c0 div.sk-toggleable__content pre {margin: 0.2em;color: black;border-radius: 0.25em;background-color: #f0f8ff;}#sk-fbca75d0-93e5-4db1-ace3-9988f70960c0 input.sk-toggleable__control:checked~div.sk-toggleable__content {max-height: 200px;max-width: 100%;overflow: auto;}#sk-fbca75d0-93e5-4db1-ace3-9988f70960c0 div.sk-estimator input.sk-toggleable__control:checked~label.sk-toggleable__label {background-color: #d4ebff;}#sk-fbca75d0-93e5-4db1-ace3-9988f70960c0 div.sk-label input.sk-toggleable__control:checked~label.sk-toggleable__label {background-color: #d4ebff;}#sk-fbca75d0-93e5-4db1-ace3-9988f70960c0 input.sk-hidden--visually {border: 0;clip: rect(1px 1px 1px 1px);clip: rect(1px, 1px, 1px, 1px);height: 1px;margin: -1px;overflow: hidden;padding: 0;position: absolute;width: 1px;}#sk-fbca75d0-93e5-4db1-ace3-9988f70960c0 div.sk-estimator {font-family: monospace;background-color: #f0f8ff;margin: 0.25em 0.25em;border: 1px dotted black;border-radius: 0.25em;box-sizing: border-box;}#sk-fbca75d0-93e5-4db1-ace3-9988f70960c0 div.sk-estimator:hover {background-color: #d4ebff;}#sk-fbca75d0-93e5-4db1-ace3-9988f70960c0 div.sk-parallel-item::after {content: \"\";width: 100%;border-bottom: 1px solid gray;flex-grow: 1;}#sk-fbca75d0-93e5-4db1-ace3-9988f70960c0 div.sk-label:hover label.sk-toggleable__label {background-color: #d4ebff;}#sk-fbca75d0-93e5-4db1-ace3-9988f70960c0 div.sk-serial::before {content: \"\";position: absolute;border-left: 1px solid gray;box-sizing: border-box;top: 2em;bottom: 0;left: 50%;}#sk-fbca75d0-93e5-4db1-ace3-9988f70960c0 div.sk-serial {display: flex;flex-direction: column;align-items: center;background-color: white;}#sk-fbca75d0-93e5-4db1-ace3-9988f70960c0 div.sk-item {z-index: 1;}#sk-fbca75d0-93e5-4db1-ace3-9988f70960c0 div.sk-parallel {display: flex;align-items: stretch;justify-content: center;background-color: white;}#sk-fbca75d0-93e5-4db1-ace3-9988f70960c0 div.sk-parallel-item {display: flex;flex-direction: column;position: relative;background-color: white;}#sk-fbca75d0-93e5-4db1-ace3-9988f70960c0 div.sk-parallel-item:first-child::after {align-self: flex-end;width: 50%;}#sk-fbca75d0-93e5-4db1-ace3-9988f70960c0 div.sk-parallel-item:last-child::after {align-self: flex-start;width: 50%;}#sk-fbca75d0-93e5-4db1-ace3-9988f70960c0 div.sk-parallel-item:only-child::after {width: 0;}#sk-fbca75d0-93e5-4db1-ace3-9988f70960c0 div.sk-dashed-wrapped {border: 1px dashed gray;margin: 0.2em;box-sizing: border-box;padding-bottom: 0.1em;background-color: white;position: relative;}#sk-fbca75d0-93e5-4db1-ace3-9988f70960c0 div.sk-label label {font-family: monospace;font-weight: bold;background-color: white;display: inline-block;line-height: 1.2em;}#sk-fbca75d0-93e5-4db1-ace3-9988f70960c0 div.sk-label-container {position: relative;z-index: 2;text-align: center;}#sk-fbca75d0-93e5-4db1-ace3-9988f70960c0 div.sk-container {display: inline-block;position: relative;}</style><div id=\"sk-fbca75d0-93e5-4db1-ace3-9988f70960c0\" class\"sk-top-container\"><div class=\"sk-container\"><div class=\"sk-item sk-dashed-wrapped\"><div class=\"sk-label-container\"><div class=\"sk-label sk-toggleable\"><input class=\"sk-toggleable__control sk-hidden--visually\" id=\"c87b604e-5ad6-4385-b1fb-8d36d2c101b1\" type=\"checkbox\" ><label class=\"sk-toggleable__label\" for=\"c87b604e-5ad6-4385-b1fb-8d36d2c101b1\">Pipeline</label><div class=\"sk-toggleable__content\"><pre>Pipeline(steps=[('preprocessor',\n",
       "                 ColumnTransformer(transformers=[('numeric',\n",
       "                                                  Pipeline(steps=[('imputer',\n",
       "                                                                   SimpleImputer(strategy='median')),\n",
       "                                                                  ('scaler',\n",
       "                                                                   StandardScaler())]),\n",
       "                                                  [3, 4, 5, 6, 7]),\n",
       "                                                 ('categorical',\n",
       "                                                  Pipeline(steps=[('imputeC',\n",
       "                                                                   SimpleImputer(strategy='most_frequent')),\n",
       "                                                                  ('oneHot',\n",
       "                                                                   OneHotEncoder(handle_unknown='ignore'))]),\n",
       "                                                  [0, 1, 2, 8])])),\n",
       "                ('classifier', DecisionTreeClassifier())])</pre></div></div></div><div class=\"sk-serial\"><div class=\"sk-item sk-dashed-wrapped\"><div class=\"sk-label-container\"><div class=\"sk-label sk-toggleable\"><input class=\"sk-toggleable__control sk-hidden--visually\" id=\"565c76d2-8080-47d5-ae77-dc19126af1a1\" type=\"checkbox\" ><label class=\"sk-toggleable__label\" for=\"565c76d2-8080-47d5-ae77-dc19126af1a1\">preprocessor: ColumnTransformer</label><div class=\"sk-toggleable__content\"><pre>ColumnTransformer(transformers=[('numeric',\n",
       "                                 Pipeline(steps=[('imputer',\n",
       "                                                  SimpleImputer(strategy='median')),\n",
       "                                                 ('scaler', StandardScaler())]),\n",
       "                                 [3, 4, 5, 6, 7]),\n",
       "                                ('categorical',\n",
       "                                 Pipeline(steps=[('imputeC',\n",
       "                                                  SimpleImputer(strategy='most_frequent')),\n",
       "                                                 ('oneHot',\n",
       "                                                  OneHotEncoder(handle_unknown='ignore'))]),\n",
       "                                 [0, 1, 2, 8])])</pre></div></div></div><div class=\"sk-parallel\"><div class=\"sk-parallel-item\"><div class=\"sk-item\"><div class=\"sk-label-container\"><div class=\"sk-label sk-toggleable\"><input class=\"sk-toggleable__control sk-hidden--visually\" id=\"6cd02efd-54c3-458b-8558-bfcec773d85f\" type=\"checkbox\" ><label class=\"sk-toggleable__label\" for=\"6cd02efd-54c3-458b-8558-bfcec773d85f\">numeric</label><div class=\"sk-toggleable__content\"><pre>[3, 4, 5, 6, 7]</pre></div></div></div><div class=\"sk-serial\"><div class=\"sk-item\"><div class=\"sk-serial\"><div class=\"sk-item\"><div class=\"sk-estimator sk-toggleable\"><input class=\"sk-toggleable__control sk-hidden--visually\" id=\"336d9368-a3e5-4e6e-8077-741401b5c3e9\" type=\"checkbox\" ><label class=\"sk-toggleable__label\" for=\"336d9368-a3e5-4e6e-8077-741401b5c3e9\">SimpleImputer</label><div class=\"sk-toggleable__content\"><pre>SimpleImputer(strategy='median')</pre></div></div></div><div class=\"sk-item\"><div class=\"sk-estimator sk-toggleable\"><input class=\"sk-toggleable__control sk-hidden--visually\" id=\"4dfd0974-90e6-4206-ad98-1b4ec3b6c8df\" type=\"checkbox\" ><label class=\"sk-toggleable__label\" for=\"4dfd0974-90e6-4206-ad98-1b4ec3b6c8df\">StandardScaler</label><div class=\"sk-toggleable__content\"><pre>StandardScaler()</pre></div></div></div></div></div></div></div></div><div class=\"sk-parallel-item\"><div class=\"sk-item\"><div class=\"sk-label-container\"><div class=\"sk-label sk-toggleable\"><input class=\"sk-toggleable__control sk-hidden--visually\" id=\"c0a305dc-d7b4-4ce9-aca6-f518f4e5420e\" type=\"checkbox\" ><label class=\"sk-toggleable__label\" for=\"c0a305dc-d7b4-4ce9-aca6-f518f4e5420e\">categorical</label><div class=\"sk-toggleable__content\"><pre>[0, 1, 2, 8]</pre></div></div></div><div class=\"sk-serial\"><div class=\"sk-item\"><div class=\"sk-serial\"><div class=\"sk-item\"><div class=\"sk-estimator sk-toggleable\"><input class=\"sk-toggleable__control sk-hidden--visually\" id=\"d475e5c0-4b4b-4710-8e0d-391bd14c9036\" type=\"checkbox\" ><label class=\"sk-toggleable__label\" for=\"d475e5c0-4b4b-4710-8e0d-391bd14c9036\">SimpleImputer</label><div class=\"sk-toggleable__content\"><pre>SimpleImputer(strategy='most_frequent')</pre></div></div></div><div class=\"sk-item\"><div class=\"sk-estimator sk-toggleable\"><input class=\"sk-toggleable__control sk-hidden--visually\" id=\"585818ad-48c6-4d61-8d2c-45021cf6c7e9\" type=\"checkbox\" ><label class=\"sk-toggleable__label\" for=\"585818ad-48c6-4d61-8d2c-45021cf6c7e9\">OneHotEncoder</label><div class=\"sk-toggleable__content\"><pre>OneHotEncoder(handle_unknown='ignore')</pre></div></div></div></div></div></div></div></div></div></div><div class=\"sk-item\"><div class=\"sk-estimator sk-toggleable\"><input class=\"sk-toggleable__control sk-hidden--visually\" id=\"4049c028-94ee-47ea-b618-4b8e9ac8c74a\" type=\"checkbox\" ><label class=\"sk-toggleable__label\" for=\"4049c028-94ee-47ea-b618-4b8e9ac8c74a\">DecisionTreeClassifier</label><div class=\"sk-toggleable__content\"><pre>DecisionTreeClassifier()</pre></div></div></div></div></div></div></div>"
      ],
      "text/plain": [
       "Pipeline(steps=[('preprocessor',\n",
       "                 ColumnTransformer(transformers=[('numeric',\n",
       "                                                  Pipeline(steps=[('imputer',\n",
       "                                                                   SimpleImputer(strategy='median')),\n",
       "                                                                  ('scaler',\n",
       "                                                                   StandardScaler())]),\n",
       "                                                  [3, 4, 5, 6, 7]),\n",
       "                                                 ('categorical',\n",
       "                                                  Pipeline(steps=[('imputeC',\n",
       "                                                                   SimpleImputer(strategy='most_frequent')),\n",
       "                                                                  ('oneHot',\n",
       "                                                                   OneHotEncoder(handle_unknown='ignore'))]),\n",
       "                                                  [0, 1, 2, 8])])),\n",
       "                ('classifier', DecisionTreeClassifier())])"
      ]
     },
     "execution_count": 32,
     "metadata": {},
     "output_type": "execute_result"
    }
   ],
   "source": [
    "#Training the model using pipeline\n",
    "# Display Pipeline\n",
    "from sklearn import set_config\n",
    "set_config(display='diagram')\n",
    "#fit data\n",
    "testmodel.fit(X_train, Y_train)"
   ]
  },
  {
   "cell_type": "code",
   "execution_count": 33,
   "id": "17d25352",
   "metadata": {},
   "outputs": [],
   "source": [
    "# set_config(display='diagram')\n",
    "# #fit data\n",
    "# pipelinemodel.fit(X_train, Y_train)"
   ]
  },
  {
   "cell_type": "markdown",
   "id": "bdf9f779",
   "metadata": {},
   "source": [
    "# Validation and Evaluation of model"
   ]
  },
  {
   "cell_type": "code",
   "execution_count": 34,
   "id": "ca1377c0",
   "metadata": {},
   "outputs": [],
   "source": [
    "#Import all the metrics for validation and evaluation\n",
    "from sklearn.metrics import confusion_matrix\n",
    "from sklearn.metrics import accuracy_score\n",
    "from sklearn.metrics import recall_score\n",
    "from sklearn.metrics import precision_score\n",
    "from sklearn.metrics import f1_score\n",
    "from sklearn.metrics import classification_report\n",
    "import seaborn as sns"
   ]
  },
  {
   "cell_type": "code",
   "execution_count": 35,
   "id": "08f2d270",
   "metadata": {},
   "outputs": [
    {
     "name": "stdout",
     "output_type": "stream",
     "text": [
      "['N' 'Y' 'N' 'N' 'N' 'Y' 'Y' 'Y' 'N' 'Y' 'Y' 'Y' 'Y' 'Y' 'Y' 'Y' 'Y' 'Y'\n",
      " 'Y' 'Y' 'N' 'Y' 'N' 'Y' 'N' 'N' 'Y' 'N' 'Y' 'N' 'N' 'N' 'Y' 'Y' 'N' 'Y'\n",
      " 'N' 'Y' 'Y' 'Y' 'Y' 'N' 'N' 'Y' 'Y' 'Y' 'N' 'Y' 'Y' 'Y' 'Y' 'Y' 'Y' 'Y'\n",
      " 'N' 'N' 'Y' 'Y' 'Y' 'N' 'N' 'Y' 'Y' 'Y' 'Y' 'Y' 'Y' 'N' 'Y' 'Y' 'Y' 'Y'\n",
      " 'Y' 'Y' 'N' 'N' 'Y' 'Y' 'Y' 'N' 'Y' 'Y' 'Y' 'N' 'Y' 'Y' 'N' 'N' 'Y' 'Y'\n",
      " 'Y' 'Y' 'Y' 'Y' 'Y' 'N' 'Y' 'Y' 'Y' 'Y' 'Y' 'Y' 'N' 'Y' 'N' 'Y' 'Y' 'Y'\n",
      " 'N' 'Y' 'Y' 'Y' 'Y' 'Y' 'Y' 'Y' 'Y' 'N' 'Y' 'N' 'Y' 'Y' 'Y' 'Y' 'Y' 'Y'\n",
      " 'Y' 'Y' 'N' 'Y' 'Y' 'Y' 'Y' 'N' 'Y' 'Y' 'N' 'N' 'Y' 'N' 'Y' 'N' 'Y' 'N'\n",
      " 'N' 'Y' 'N' 'N' 'N' 'N' 'Y' 'N' 'Y' 'Y' 'N' 'Y' 'Y' 'Y' 'N' 'Y' 'Y' 'Y'\n",
      " 'N' 'N' 'Y' 'N' 'Y' 'N' 'Y' 'N' 'N' 'N' 'Y' 'Y' 'Y' 'Y' 'Y' 'N' 'N' 'Y'\n",
      " 'Y' 'Y' 'Y' 'Y' 'N']\n"
     ]
    }
   ],
   "source": [
    "y_pred = testmodel.predict(x_test)\n",
    "print(y_pred)"
   ]
  },
  {
   "cell_type": "code",
   "execution_count": 36,
   "id": "85e73582",
   "metadata": {},
   "outputs": [],
   "source": [
    "pipelinemodel.score(X_train,Y_train)"
   ]
  },
  {
   "cell_type": "code",
   "execution_count": 37,
   "id": "3b1e768d",
   "metadata": {},
   "outputs": [],
   "source": [
    "# pipelinemodel.score(x_test,y_test)"
   ]
  },
  {
   "cell_type": "code",
   "execution_count": 38,
   "id": "caa4d9ab",
   "metadata": {},
   "outputs": [
    {
     "data": {
      "text/plain": [
       "1.0"
      ]
     },
     "execution_count": 38,
     "metadata": {},
     "output_type": "execute_result"
    }
   ],
   "source": [
    "testmodel.score(X_train,Y_train)"
   ]
  },
  {
   "cell_type": "code",
   "execution_count": 39,
   "id": "7cff59d0",
   "metadata": {},
   "outputs": [
    {
     "data": {
      "text/plain": [
       "0.6972972972972973"
      ]
     },
     "execution_count": 39,
     "metadata": {},
     "output_type": "execute_result"
    }
   ],
   "source": [
    "testmodel.score(x_test,y_test)"
   ]
  },
  {
   "cell_type": "code",
   "execution_count": 40,
   "id": "f39730e7",
   "metadata": {},
   "outputs": [
    {
     "name": "stdout",
     "output_type": "stream",
     "text": [
      "Report : \n",
      "              precision    recall  f1-score   support\n",
      "\n",
      "           Y       0.68      0.53      0.59        78\n",
      "           N       0.70      0.82      0.76       107\n",
      "\n",
      "    accuracy                           0.70       185\n",
      "   macro avg       0.69      0.67      0.68       185\n",
      "weighted avg       0.70      0.70      0.69       185\n",
      "\n"
     ]
    },
    {
     "data": {
      "text/plain": [
       "<AxesSubplot:>"
      ]
     },
     "execution_count": 40,
     "metadata": {},
     "output_type": "execute_result"
    },
    {
     "data": {
      "image/png": "[encoded data removed]",
      "text/plain": [
       "<Figure size 432x288 with 2 Axes>"
      ]
     },
     "metadata": {
      "needs_background": "light"
     },
     "output_type": "display_data"
    }
   ],
   "source": [
    "#Summarise the fit of the model\n",
    "report = classification_report(y_test, y_pred, target_names=['Y','N'])\n",
    "print(\"Report : \\n{}\".format(report))\n",
    "\n",
    "#Confusion Matrix\n",
    "cm = confusion_matrix(y_test, y_pred)\n",
    "# print(cm)\n",
    "sns.heatmap(cm,annot=True,cmap='Blues')"
   ]
  },
  {
   "cell_type": "markdown",
   "id": "fc02689a",
   "metadata": {},
   "source": [
    "# Saving Model\n",
    "\n",
    "After training a scikit-learn model, it is desirable to have a way to persist the model for future use without having to retrain"
   ]
  },
  {
   "cell_type": "code",
   "execution_count": 41,
   "id": "24fcb374",
   "metadata": {},
   "outputs": [],
   "source": [
    "#Save Model using pickle\n",
    "import pickle\n",
    "pickle.dump(testmodel, open(\"testmodel.pkl\",\"wb\"))"
   ]
  },
  {
   "cell_type": "code",
   "execution_count": 42,
   "id": "a90b0630",
   "metadata": {},
   "outputs": [
    {
     "data": {
      "text/html": [
       "<style>#sk-0e216d9a-6e3e-4629-8db5-e8351716c64b {color: black;background-color: white;}#sk-0e216d9a-6e3e-4629-8db5-e8351716c64b pre{padding: 0;}#sk-0e216d9a-6e3e-4629-8db5-e8351716c64b div.sk-toggleable {background-color: white;}#sk-0e216d9a-6e3e-4629-8db5-e8351716c64b label.sk-toggleable__label {cursor: pointer;display: block;width: 100%;margin-bottom: 0;padding: 0.2em 0.3em;box-sizing: border-box;text-align: center;}#sk-0e216d9a-6e3e-4629-8db5-e8351716c64b div.sk-toggleable__content {max-height: 0;max-width: 0;overflow: hidden;text-align: left;background-color: #f0f8ff;}#sk-0e216d9a-6e3e-4629-8db5-e8351716c64b div.sk-toggleable__content pre {margin: 0.2em;color: black;border-radius: 0.25em;background-color: #f0f8ff;}#sk-0e216d9a-6e3e-4629-8db5-e8351716c64b input.sk-toggleable__control:checked~div.sk-toggleable__content {max-height: 200px;max-width: 100%;overflow: auto;}#sk-0e216d9a-6e3e-4629-8db5-e8351716c64b div.sk-estimator input.sk-toggleable__control:checked~label.sk-toggleable__label {background-color: #d4ebff;}#sk-0e216d9a-6e3e-4629-8db5-e8351716c64b div.sk-label input.sk-toggleable__control:checked~label.sk-toggleable__label {background-color: #d4ebff;}#sk-0e216d9a-6e3e-4629-8db5-e8351716c64b input.sk-hidden--visually {border: 0;clip: rect(1px 1px 1px 1px);clip: rect(1px, 1px, 1px, 1px);height: 1px;margin: -1px;overflow: hidden;padding: 0;position: absolute;width: 1px;}#sk-0e216d9a-6e3e-4629-8db5-e8351716c64b div.sk-estimator {font-family: monospace;background-color: #f0f8ff;margin: 0.25em 0.25em;border: 1px dotted black;border-radius: 0.25em;box-sizing: border-box;}#sk-0e216d9a-6e3e-4629-8db5-e8351716c64b div.sk-estimator:hover {background-color: #d4ebff;}#sk-0e216d9a-6e3e-4629-8db5-e8351716c64b div.sk-parallel-item::after {content: \"\";width: 100%;border-bottom: 1px solid gray;flex-grow: 1;}#sk-0e216d9a-6e3e-4629-8db5-e8351716c64b div.sk-label:hover label.sk-toggleable__label {background-color: #d4ebff;}#sk-0e216d9a-6e3e-4629-8db5-e8351716c64b div.sk-serial::before {content: \"\";position: absolute;border-left: 1px solid gray;box-sizing: border-box;top: 2em;bottom: 0;left: 50%;}#sk-0e216d9a-6e3e-4629-8db5-e8351716c64b div.sk-serial {display: flex;flex-direction: column;align-items: center;background-color: white;}#sk-0e216d9a-6e3e-4629-8db5-e8351716c64b div.sk-item {z-index: 1;}#sk-0e216d9a-6e3e-4629-8db5-e8351716c64b div.sk-parallel {display: flex;align-items: stretch;justify-content: center;background-color: white;}#sk-0e216d9a-6e3e-4629-8db5-e8351716c64b div.sk-parallel-item {display: flex;flex-direction: column;position: relative;background-color: white;}#sk-0e216d9a-6e3e-4629-8db5-e8351716c64b div.sk-parallel-item:first-child::after {align-self: flex-end;width: 50%;}#sk-0e216d9a-6e3e-4629-8db5-e8351716c64b div.sk-parallel-item:last-child::after {align-self: flex-start;width: 50%;}#sk-0e216d9a-6e3e-4629-8db5-e8351716c64b div.sk-parallel-item:only-child::after {width: 0;}#sk-0e216d9a-6e3e-4629-8db5-e8351716c64b div.sk-dashed-wrapped {border: 1px dashed gray;margin: 0.2em;box-sizing: border-box;padding-bottom: 0.1em;background-color: white;position: relative;}#sk-0e216d9a-6e3e-4629-8db5-e8351716c64b div.sk-label label {font-family: monospace;font-weight: bold;background-color: white;display: inline-block;line-height: 1.2em;}#sk-0e216d9a-6e3e-4629-8db5-e8351716c64b div.sk-label-container {position: relative;z-index: 2;text-align: center;}#sk-0e216d9a-6e3e-4629-8db5-e8351716c64b div.sk-container {display: inline-block;position: relative;}</style><div id=\"sk-0e216d9a-6e3e-4629-8db5-e8351716c64b\" class\"sk-top-container\"><div class=\"sk-container\"><div class=\"sk-item sk-dashed-wrapped\"><div class=\"sk-label-container\"><div class=\"sk-label sk-toggleable\"><input class=\"sk-toggleable__control sk-hidden--visually\" id=\"86c48e2c-4cfe-45ca-9963-bc66d8d564c4\" type=\"checkbox\" ><label class=\"sk-toggleable__label\" for=\"86c48e2c-4cfe-45ca-9963-bc66d8d564c4\">Pipeline</label><div class=\"sk-toggleable__content\"><pre>Pipeline(steps=[('preprocessor',\n",
       "                 ColumnTransformer(transformers=[('numeric',\n",
       "                                                  Pipeline(steps=[('imputer',\n",
       "                                                                   SimpleImputer(strategy='median')),\n",
       "                                                                  ('scaler',\n",
       "                                                                   StandardScaler())]),\n",
       "                                                  [3, 4, 5, 6, 7]),\n",
       "                                                 ('categorical',\n",
       "                                                  Pipeline(steps=[('imputeC',\n",
       "                                                                   SimpleImputer(strategy='most_frequent')),\n",
       "                                                                  ('oneHot',\n",
       "                                                                   OneHotEncoder(handle_unknown='ignore'))]),\n",
       "                                                  [0, 1, 2, 8])])),\n",
       "                ('classifier', DecisionTreeClassifier())])</pre></div></div></div><div class=\"sk-serial\"><div class=\"sk-item sk-dashed-wrapped\"><div class=\"sk-label-container\"><div class=\"sk-label sk-toggleable\"><input class=\"sk-toggleable__control sk-hidden--visually\" id=\"9c5e6205-3314-412e-8183-6f1ece78ef78\" type=\"checkbox\" ><label class=\"sk-toggleable__label\" for=\"9c5e6205-3314-412e-8183-6f1ece78ef78\">preprocessor: ColumnTransformer</label><div class=\"sk-toggleable__content\"><pre>ColumnTransformer(transformers=[('numeric',\n",
       "                                 Pipeline(steps=[('imputer',\n",
       "                                                  SimpleImputer(strategy='median')),\n",
       "                                                 ('scaler', StandardScaler())]),\n",
       "                                 [3, 4, 5, 6, 7]),\n",
       "                                ('categorical',\n",
       "                                 Pipeline(steps=[('imputeC',\n",
       "                                                  SimpleImputer(strategy='most_frequent')),\n",
       "                                                 ('oneHot',\n",
       "                                                  OneHotEncoder(handle_unknown='ignore'))]),\n",
       "                                 [0, 1, 2, 8])])</pre></div></div></div><div class=\"sk-parallel\"><div class=\"sk-parallel-item\"><div class=\"sk-item\"><div class=\"sk-label-container\"><div class=\"sk-label sk-toggleable\"><input class=\"sk-toggleable__control sk-hidden--visually\" id=\"cbb94f5a-872a-4097-85ae-b90ae599e704\" type=\"checkbox\" ><label class=\"sk-toggleable__label\" for=\"cbb94f5a-872a-4097-85ae-b90ae599e704\">numeric</label><div class=\"sk-toggleable__content\"><pre>[3, 4, 5, 6, 7]</pre></div></div></div><div class=\"sk-serial\"><div class=\"sk-item\"><div class=\"sk-serial\"><div class=\"sk-item\"><div class=\"sk-estimator sk-toggleable\"><input class=\"sk-toggleable__control sk-hidden--visually\" id=\"ed804c72-7acd-45ac-b02e-d22062677b93\" type=\"checkbox\" ><label class=\"sk-toggleable__label\" for=\"ed804c72-7acd-45ac-b02e-d22062677b93\">SimpleImputer</label><div class=\"sk-toggleable__content\"><pre>SimpleImputer(strategy='median')</pre></div></div></div><div class=\"sk-item\"><div class=\"sk-estimator sk-toggleable\"><input class=\"sk-toggleable__control sk-hidden--visually\" id=\"3efa8e6e-ab46-43ae-b227-44883a0d14c2\" type=\"checkbox\" ><label class=\"sk-toggleable__label\" for=\"3efa8e6e-ab46-43ae-b227-44883a0d14c2\">StandardScaler</label><div class=\"sk-toggleable__content\"><pre>StandardScaler()</pre></div></div></div></div></div></div></div></div><div class=\"sk-parallel-item\"><div class=\"sk-item\"><div class=\"sk-label-container\"><div class=\"sk-label sk-toggleable\"><input class=\"sk-toggleable__control sk-hidden--visually\" id=\"6994138d-0639-4a84-b8b3-9c5261e36252\" type=\"checkbox\" ><label class=\"sk-toggleable__label\" for=\"6994138d-0639-4a84-b8b3-9c5261e36252\">categorical</label><div class=\"sk-toggleable__content\"><pre>[0, 1, 2, 8]</pre></div></div></div><div class=\"sk-serial\"><div class=\"sk-item\"><div class=\"sk-serial\"><div class=\"sk-item\"><div class=\"sk-estimator sk-toggleable\"><input class=\"sk-toggleable__control sk-hidden--visually\" id=\"c1bcc9c7-0dc6-4262-a183-1f4bcb4d6e4b\" type=\"checkbox\" ><label class=\"sk-toggleable__label\" for=\"c1bcc9c7-0dc6-4262-a183-1f4bcb4d6e4b\">SimpleImputer</label><div class=\"sk-toggleable__content\"><pre>SimpleImputer(strategy='most_frequent')</pre></div></div></div><div class=\"sk-item\"><div class=\"sk-estimator sk-toggleable\"><input class=\"sk-toggleable__control sk-hidden--visually\" id=\"2c57d78d-2da2-4de4-9ea1-906b26336593\" type=\"checkbox\" ><label class=\"sk-toggleable__label\" for=\"2c57d78d-2da2-4de4-9ea1-906b26336593\">OneHotEncoder</label><div class=\"sk-toggleable__content\"><pre>OneHotEncoder(handle_unknown='ignore')</pre></div></div></div></div></div></div></div></div></div></div><div class=\"sk-item\"><div class=\"sk-estimator sk-toggleable\"><input class=\"sk-toggleable__control sk-hidden--visually\" id=\"4d27725e-b4cf-4c87-8469-c076ce4025fb\" type=\"checkbox\" ><label class=\"sk-toggleable__label\" for=\"4d27725e-b4cf-4c87-8469-c076ce4025fb\">DecisionTreeClassifier</label><div class=\"sk-toggleable__content\"><pre>DecisionTreeClassifier()</pre></div></div></div></div></div></div></div>"
      ],
      "text/plain": [
       "Pipeline(steps=[('preprocessor',\n",
       "                 ColumnTransformer(transformers=[('numeric',\n",
       "                                                  Pipeline(steps=[('imputer',\n",
       "                                                                   SimpleImputer(strategy='median')),\n",
       "                                                                  ('scaler',\n",
       "                                                                   StandardScaler())]),\n",
       "                                                  [3, 4, 5, 6, 7]),\n",
       "                                                 ('categorical',\n",
       "                                                  Pipeline(steps=[('imputeC',\n",
       "                                                                   SimpleImputer(strategy='most_frequent')),\n",
       "                                                                  ('oneHot',\n",
       "                                                                   OneHotEncoder(handle_unknown='ignore'))]),\n",
       "                                                  [0, 1, 2, 8])])),\n",
       "                ('classifier', DecisionTreeClassifier())])"
      ]
     },
     "execution_count": 42,
     "metadata": {},
     "output_type": "execute_result"
    }
   ],
   "source": [
    "#load pickle model\n",
    "model = pickle.load(open(\"testmodel.pkl\",\"rb\"))\n",
    "model"
   ]
  },
  {
   "cell_type": "code",
   "execution_count": 43,
   "id": "bc9a4db5",
   "metadata": {},
   "outputs": [
    {
     "data": {
      "text/plain": [
       "array(['N', 'Y', 'N', 'N', 'N', 'Y', 'Y', 'Y', 'N', 'Y', 'Y', 'Y', 'Y',\n",
       "       'Y', 'Y', 'Y', 'Y', 'Y', 'Y', 'Y', 'N', 'Y', 'N', 'Y', 'N', 'N',\n",
       "       'Y', 'N', 'Y', 'N', 'N', 'N', 'Y', 'Y', 'N', 'Y', 'N', 'Y', 'Y',\n",
       "       'Y', 'Y', 'N', 'N', 'Y', 'Y', 'Y', 'N', 'Y', 'Y', 'Y', 'Y', 'Y',\n",
       "       'Y', 'Y', 'N', 'N', 'Y', 'Y', 'Y', 'N', 'N', 'Y', 'Y', 'Y', 'Y',\n",
       "       'Y', 'Y', 'N', 'Y', 'Y', 'Y', 'Y', 'Y', 'Y', 'N', 'N', 'Y', 'Y',\n",
       "       'Y', 'N', 'Y', 'Y', 'Y', 'N', 'Y', 'Y', 'N', 'N', 'Y', 'Y', 'Y',\n",
       "       'Y', 'Y', 'Y', 'Y', 'N', 'Y', 'Y', 'Y', 'Y', 'Y', 'Y', 'N', 'Y',\n",
       "       'N', 'Y', 'Y', 'Y', 'N', 'Y', 'Y', 'Y', 'Y', 'Y', 'Y', 'Y', 'Y',\n",
       "       'N', 'Y', 'N', 'Y', 'Y', 'Y', 'Y', 'Y', 'Y', 'Y', 'Y', 'N', 'Y',\n",
       "       'Y', 'Y', 'Y', 'N', 'Y', 'Y', 'N', 'N', 'Y', 'N', 'Y', 'N', 'Y',\n",
       "       'N', 'N', 'Y', 'N', 'N', 'N', 'N', 'Y', 'N', 'Y', 'Y', 'N', 'Y',\n",
       "       'Y', 'Y', 'N', 'Y', 'Y', 'Y', 'N', 'N', 'Y', 'N', 'Y', 'N', 'Y',\n",
       "       'N', 'N', 'N', 'Y', 'Y', 'Y', 'Y', 'Y', 'N', 'N', 'Y', 'Y', 'Y',\n",
       "       'Y', 'Y', 'N'], dtype=object)"
      ]
     },
     "execution_count": 43,
     "metadata": {},
     "output_type": "execute_result"
    }
   ],
   "source": [
    "model.predict(x_test)"
   ]
  },
  {
   "cell_type": "code",
   "execution_count": 44,
   "id": "19a628e3",
   "metadata": {},
   "outputs": [
    {
     "data": {
      "text/plain": [
       "['loanmodeljob.joblib']"
      ]
     },
     "execution_count": 44,
     "metadata": {},
     "output_type": "execute_result"
    }
   ],
   "source": [
    "#save Model with sklearn joblib\n",
    "from joblib import load, dump\n",
    "dump(testmodel,'loanmodeljob.joblib')"
   ]
  },
  {
   "cell_type": "code",
   "execution_count": 45,
   "id": "c7ab8e8b",
   "metadata": {},
   "outputs": [
    {
     "data": {
      "text/plain": [
       "array(['N', 'Y', 'N', 'N', 'N', 'Y', 'Y', 'Y', 'N', 'Y', 'Y', 'Y', 'Y',\n",
       "       'Y', 'Y', 'Y', 'Y', 'Y', 'Y', 'Y', 'N', 'Y', 'N', 'Y', 'N', 'N',\n",
       "       'Y', 'N', 'Y', 'N', 'N', 'N', 'Y', 'Y', 'N', 'Y', 'N', 'Y', 'Y',\n",
       "       'Y', 'Y', 'N', 'N', 'Y', 'Y', 'Y', 'N', 'Y', 'Y', 'Y', 'Y', 'Y',\n",
       "       'Y', 'Y', 'N', 'N', 'Y', 'Y', 'Y', 'N', 'N', 'Y', 'Y', 'Y', 'Y',\n",
       "       'Y', 'Y', 'N', 'Y', 'Y', 'Y', 'Y', 'Y', 'Y', 'N', 'N', 'Y', 'Y',\n",
       "       'Y', 'N', 'Y', 'Y', 'Y', 'N', 'Y', 'Y', 'N', 'N', 'Y', 'Y', 'Y',\n",
       "       'Y', 'Y', 'Y', 'Y', 'N', 'Y', 'Y', 'Y', 'Y', 'Y', 'Y', 'N', 'Y',\n",
       "       'N', 'Y', 'Y', 'Y', 'N', 'Y', 'Y', 'Y', 'Y', 'Y', 'Y', 'Y', 'Y',\n",
       "       'N', 'Y', 'N', 'Y', 'Y', 'Y', 'Y', 'Y', 'Y', 'Y', 'Y', 'N', 'Y',\n",
       "       'Y', 'Y', 'Y', 'N', 'Y', 'Y', 'N', 'N', 'Y', 'N', 'Y', 'N', 'Y',\n",
       "       'N', 'N', 'Y', 'N', 'N', 'N', 'N', 'Y', 'N', 'Y', 'Y', 'N', 'Y',\n",
       "       'Y', 'Y', 'N', 'Y', 'Y', 'Y', 'N', 'N', 'Y', 'N', 'Y', 'N', 'Y',\n",
       "       'N', 'N', 'N', 'Y', 'Y', 'Y', 'Y', 'Y', 'N', 'N', 'Y', 'Y', 'Y',\n",
       "       'Y', 'Y', 'N'], dtype=object)"
      ]
     },
     "execution_count": 45,
     "metadata": {},
     "output_type": "execute_result"
    }
   ],
   "source": [
    "model1 = load('loanmodeljob.joblib')\n",
    "model1.predict(x_test)"
   ]
  },
  {
   "cell_type": "code",
   "execution_count": 46,
   "id": "1bdbdff2",
   "metadata": {},
   "outputs": [
    {
     "data": {
      "text/plain": [
       "numpy.ndarray"
      ]
     },
     "execution_count": 46,
     "metadata": {},
     "output_type": "execute_result"
    }
   ],
   "source": [
    "type(x_test)"
   ]
  },
  {
   "cell_type": "code",
   "execution_count": 47,
   "id": "6fe6122c",
   "metadata": {},
   "outputs": [
    {
     "data": {
      "text/plain": [
       "[['0', 'Graduate', 'No', 5498, 250.0, 128.0, 360, 1, 'Urban']]"
      ]
     },
     "execution_count": 47,
     "metadata": {},
     "output_type": "execute_result"
    }
   ],
   "source": [
    "sample = [['0','Graduate','No',5498,250.0,128.0,360,1,'Urban']]\n",
    "sample"
   ]
  },
  {
   "cell_type": "code",
   "execution_count": 48,
   "id": "803ea176",
   "metadata": {},
   "outputs": [
    {
     "data": {
      "text/plain": [
       "[['0', 'Graduate', 'No', 4583, 1508.0, 128.0, 360.0, 1.0, 'Rural']]"
      ]
     },
     "execution_count": 48,
     "metadata": {},
     "output_type": "execute_result"
    }
   ],
   "source": [
    "sample1 = [['0', 'Graduate', 'No', 4583, 1508.0, 128.0, 360.0, 1.0, 'Rural']]\n",
    "sample1"
   ]
  },
  {
   "cell_type": "code",
   "execution_count": 49,
   "id": "7bdc42b3",
   "metadata": {},
   "outputs": [
    {
     "data": {
      "text/plain": [
       "array(['Y'], dtype=object)"
      ]
     },
     "execution_count": 49,
     "metadata": {},
     "output_type": "execute_result"
    }
   ],
   "source": [
    "model1.predict(sample)"
   ]
  },
  {
   "cell_type": "code",
   "execution_count": 50,
   "id": "278c73a7",
   "metadata": {},
   "outputs": [
    {
     "data": {
      "text/plain": [
       "array(['N'], dtype=object)"
      ]
     },
     "execution_count": 50,
     "metadata": {},
     "output_type": "execute_result"
    }
   ],
   "source": [
    "model1.predict(sample1)"
   ]
  },
  {
   "cell_type": "code",
   "execution_count": null,
   "id": "1cb58385",
   "metadata": {},
   "outputs": [],
   "source": []
  }
 ],
 "metadata": {
  "kernelspec": {
   "display_name": "Python 3 (ipykernel)",
   "language": "python",
   "name": "python3"
  },
  "language_info": {
   "codemirror_mode": {
    "name": "ipython",
    "version": 3
   },
   "file_extension": ".py",
   "mimetype": "text/x-python",
   "name": "python",
   "nbconvert_exporter": "python",
   "pygments_lexer": "ipython3",
   "version": "3.9.7"
  }
 },
 "nbformat": 4,
 "nbformat_minor": 5
}
