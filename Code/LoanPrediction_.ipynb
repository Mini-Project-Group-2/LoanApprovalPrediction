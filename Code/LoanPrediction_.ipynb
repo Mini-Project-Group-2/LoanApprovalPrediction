{
 "cells": [
  {
   "cell_type": "markdown",
   "id": "ca52dea7",
   "metadata": {},
   "source": [
    "# Importing the modules"
   ]
  },
  {
   "cell_type": "code",
   "execution_count": 1,
   "id": "6dd60d3c",
   "metadata": {},
   "outputs": [],
   "source": [
    "import pandas as pd\n",
    "import numpy as np\n",
    "import seaborn as sns\n",
    "from matplotlib import pyplot as plt\n",
    "import matplotlib\n",
    "\n",
    "%matplotlib inline\n",
    "import warnings\n",
    "warnings.filterwarnings('ignore')\n",
    "\n",
    "#Import all the metrics for validation and evaluation\n",
    "from sklearn.metrics import confusion_matrix\n",
    "from sklearn.metrics import accuracy_score\n",
    "from sklearn.metrics import recall_score\n",
    "from sklearn.metrics import precision_score\n",
    "from sklearn.metrics import f1_score\n",
    "from sklearn.metrics import classification_report"
   ]
  },
  {
   "cell_type": "markdown",
   "id": "126bef4a",
   "metadata": {},
   "source": [
    "# Loading the Dataset"
   ]
  },
  {
   "cell_type": "code",
   "execution_count": 2,
   "id": "b06057b0",
   "metadata": {},
   "outputs": [
    {
     "data": {
      "text/html": [
       "<div>\n",
       "<style scoped>\n",
       "    .dataframe tbody tr th:only-of-type {\n",
       "        vertical-align: middle;\n",
       "    }\n",
       "\n",
       "    .dataframe tbody tr th {\n",
       "        vertical-align: top;\n",
       "    }\n",
       "\n",
       "    .dataframe thead th {\n",
       "        text-align: right;\n",
       "    }\n",
       "</style>\n",
       "<table border=\"1\" class=\"dataframe\">\n",
       "  <thead>\n",
       "    <tr style=\"text-align: right;\">\n",
       "      <th></th>\n",
       "      <th>Loan_ID</th>\n",
       "      <th>Gender</th>\n",
       "      <th>Married</th>\n",
       "      <th>Dependents</th>\n",
       "      <th>Education</th>\n",
       "      <th>Self_Employed</th>\n",
       "      <th>ApplicantIncome</th>\n",
       "      <th>CoapplicantIncome</th>\n",
       "      <th>LoanAmount</th>\n",
       "      <th>Loan_Amount_Term</th>\n",
       "      <th>Credit_History</th>\n",
       "      <th>Property_Area</th>\n",
       "      <th>Loan_Status</th>\n",
       "    </tr>\n",
       "  </thead>\n",
       "  <tbody>\n",
       "    <tr>\n",
       "      <th>0</th>\n",
       "      <td>LP001002</td>\n",
       "      <td>Male</td>\n",
       "      <td>No</td>\n",
       "      <td>0</td>\n",
       "      <td>Graduate</td>\n",
       "      <td>No</td>\n",
       "      <td>5849</td>\n",
       "      <td>0.0</td>\n",
       "      <td>NaN</td>\n",
       "      <td>360.0</td>\n",
       "      <td>1.0</td>\n",
       "      <td>Urban</td>\n",
       "      <td>Y</td>\n",
       "    </tr>\n",
       "    <tr>\n",
       "      <th>1</th>\n",
       "      <td>LP001003</td>\n",
       "      <td>Male</td>\n",
       "      <td>Yes</td>\n",
       "      <td>1</td>\n",
       "      <td>Graduate</td>\n",
       "      <td>No</td>\n",
       "      <td>4583</td>\n",
       "      <td>1508.0</td>\n",
       "      <td>128.0</td>\n",
       "      <td>360.0</td>\n",
       "      <td>1.0</td>\n",
       "      <td>Rural</td>\n",
       "      <td>N</td>\n",
       "    </tr>\n",
       "    <tr>\n",
       "      <th>2</th>\n",
       "      <td>LP001006</td>\n",
       "      <td>Male</td>\n",
       "      <td>Yes</td>\n",
       "      <td>0</td>\n",
       "      <td>Not Graduate</td>\n",
       "      <td>No</td>\n",
       "      <td>2583</td>\n",
       "      <td>2358.0</td>\n",
       "      <td>120.0</td>\n",
       "      <td>360.0</td>\n",
       "      <td>1.0</td>\n",
       "      <td>Urban</td>\n",
       "      <td>Y</td>\n",
       "    </tr>\n",
       "    <tr>\n",
       "      <th>3</th>\n",
       "      <td>LP001011</td>\n",
       "      <td>Male</td>\n",
       "      <td>Yes</td>\n",
       "      <td>2</td>\n",
       "      <td>Graduate</td>\n",
       "      <td>Yes</td>\n",
       "      <td>5417</td>\n",
       "      <td>4196.0</td>\n",
       "      <td>267.0</td>\n",
       "      <td>360.0</td>\n",
       "      <td>1.0</td>\n",
       "      <td>Urban</td>\n",
       "      <td>Y</td>\n",
       "    </tr>\n",
       "    <tr>\n",
       "      <th>4</th>\n",
       "      <td>LP001013</td>\n",
       "      <td>Male</td>\n",
       "      <td>Yes</td>\n",
       "      <td>0</td>\n",
       "      <td>Not Graduate</td>\n",
       "      <td>No</td>\n",
       "      <td>2333</td>\n",
       "      <td>1516.0</td>\n",
       "      <td>95.0</td>\n",
       "      <td>360.0</td>\n",
       "      <td>1.0</td>\n",
       "      <td>Urban</td>\n",
       "      <td>Y</td>\n",
       "    </tr>\n",
       "  </tbody>\n",
       "</table>\n",
       "</div>"
      ],
      "text/plain": [
       "    Loan_ID Gender Married Dependents     Education Self_Employed  \\\n",
       "0  LP001002   Male      No          0      Graduate            No   \n",
       "1  LP001003   Male     Yes          1      Graduate            No   \n",
       "2  LP001006   Male     Yes          0  Not Graduate            No   \n",
       "3  LP001011   Male     Yes          2      Graduate           Yes   \n",
       "4  LP001013   Male     Yes          0  Not Graduate            No   \n",
       "\n",
       "   ApplicantIncome  CoapplicantIncome  LoanAmount  Loan_Amount_Term  \\\n",
       "0             5849                0.0         NaN             360.0   \n",
       "1             4583             1508.0       128.0             360.0   \n",
       "2             2583             2358.0       120.0             360.0   \n",
       "3             5417             4196.0       267.0             360.0   \n",
       "4             2333             1516.0        95.0             360.0   \n",
       "\n",
       "   Credit_History Property_Area Loan_Status  \n",
       "0             1.0         Urban           Y  \n",
       "1             1.0         Rural           N  \n",
       "2             1.0         Urban           Y  \n",
       "3             1.0         Urban           Y  \n",
       "4             1.0         Urban           Y  "
      ]
     },
     "execution_count": 2,
     "metadata": {},
     "output_type": "execute_result"
    }
   ],
   "source": [
    "df = pd.read_csv('Loan Prediction.csv')\n",
    "df.head()"
   ]
  },
  {
   "cell_type": "markdown",
   "id": "a3436d1f",
   "metadata": {},
   "source": [
    "# Summary of the dataset"
   ]
  },
  {
   "cell_type": "code",
   "execution_count": null,
   "id": "f1f21fc9",
   "metadata": {},
   "outputs": [],
   "source": [
    "df.describe()"
   ]
  },
  {
   "cell_type": "code",
   "execution_count": null,
   "id": "9e40e6c4",
   "metadata": {},
   "outputs": [],
   "source": [
    "df.info()"
   ]
  },
  {
   "cell_type": "code",
   "execution_count": null,
   "id": "fb9e09ea",
   "metadata": {},
   "outputs": [],
   "source": [
    "df['Loan_Status'].value_counts()"
   ]
  },
  {
   "cell_type": "markdown",
   "id": "34229511",
   "metadata": {},
   "source": [
    "# Preprocessing"
   ]
  },
  {
   "cell_type": "code",
   "execution_count": null,
   "id": "4c520303",
   "metadata": {},
   "outputs": [],
   "source": [
    "# drop unnecessary columns\n",
    "cols = ['Loan_ID','Gender', 'Married','Education', 'Loan_Amount_Term']\n",
    "df = df.drop(columns=cols, axis=1)\n",
    "df.head()"
   ]
  },
  {
   "cell_type": "markdown",
   "id": "8c7d9c45",
   "metadata": {},
   "source": [
    "## 1. Datatype Conversion"
   ]
  },
  {
   "cell_type": "code",
   "execution_count": null,
   "id": "466a94e8",
   "metadata": {},
   "outputs": [],
   "source": [
    "df.dtypes"
   ]
  },
  {
   "cell_type": "code",
   "execution_count": null,
   "id": "6ef66c96",
   "metadata": {},
   "outputs": [],
   "source": [
    "df.Dependents.unique()"
   ]
  },
  {
   "cell_type": "code",
   "execution_count": null,
   "id": "43cfec67",
   "metadata": {},
   "outputs": [],
   "source": [
    "df = df.replace({\n",
    "    'Dependents':'[+]'\n",
    "},'',regex=True)"
   ]
  },
  {
   "cell_type": "code",
   "execution_count": null,
   "id": "cc31b1bd",
   "metadata": {},
   "outputs": [],
   "source": [
    "df.Dependents.unique()"
   ]
  },
  {
   "cell_type": "code",
   "execution_count": null,
   "id": "d950c2da",
   "metadata": {},
   "outputs": [],
   "source": [
    "df.isna().sum()"
   ]
  },
  {
   "cell_type": "code",
   "execution_count": null,
   "id": "362466e0",
   "metadata": {},
   "outputs": [],
   "source": [
    "#For Categorical data\n",
    "from sklearn.impute import SimpleImputer\n",
    "imputer = SimpleImputer(strategy='most_frequent', missing_values=np.nan)\n",
    "imputer = imputer.fit(df[['Dependents','Self_Employed']])\n",
    "df[['Dependents','Self_Employed']] = imputer.transform(df[['Dependents','Self_Employed']])"
   ]
  },
  {
   "cell_type": "code",
   "execution_count": null,
   "id": "9467b20a",
   "metadata": {},
   "outputs": [],
   "source": [
    "df.isna().sum()"
   ]
  },
  {
   "cell_type": "code",
   "execution_count": null,
   "id": "36e02d18",
   "metadata": {},
   "outputs": [],
   "source": [
    "imputer1 = SimpleImputer(strategy='mean', missing_values=np.nan)\n",
    "imputer1 = imputer.fit(df[['LoanAmount','Credit_History']])\n",
    "df[['LoanAmount', 'Credit_History']] = imputer1.transform(df[['LoanAmount','Credit_History']])"
   ]
  },
  {
   "cell_type": "code",
   "execution_count": null,
   "id": "f1f0221b",
   "metadata": {
    "scrolled": true
   },
   "outputs": [],
   "source": [
    "df.isna().sum()"
   ]
  },
  {
   "cell_type": "code",
   "execution_count": null,
   "id": "5d8a3bf4",
   "metadata": {},
   "outputs": [],
   "source": [
    "df.Dependents = df.Dependents.astype(int)\n",
    "df.dtypes"
   ]
  },
  {
   "cell_type": "code",
   "execution_count": null,
   "id": "3bd35715",
   "metadata": {},
   "outputs": [],
   "source": [
    "df.head()"
   ]
  },
  {
   "cell_type": "code",
   "execution_count": null,
   "id": "03261555",
   "metadata": {},
   "outputs": [],
   "source": [
    "df['Total_income'] = df['ApplicantIncome']+df['CoapplicantIncome']\n",
    "df.head()"
   ]
  },
  {
   "cell_type": "code",
   "execution_count": null,
   "id": "cd44172b",
   "metadata": {},
   "outputs": [],
   "source": [
    "cols1 = ['ApplicantIncome','CoapplicantIncome']\n",
    "df = df.drop(columns=cols1, axis=1)\n",
    "df.head()"
   ]
  },
  {
   "cell_type": "markdown",
   "id": "b98534e1",
   "metadata": {},
   "source": [
    "## Finding Duplicate Values"
   ]
  },
  {
   "cell_type": "code",
   "execution_count": null,
   "id": "ba81d049",
   "metadata": {},
   "outputs": [],
   "source": [
    "print(\"There are {} duplicate values.\".format(df.duplicated().sum()))\n",
    "df[df.duplicated(keep=False)].head(10)"
   ]
  },
  {
   "cell_type": "code",
   "execution_count": null,
   "id": "e0dff5ec",
   "metadata": {},
   "outputs": [],
   "source": [
    "# remove duplicate values\n",
    "df = df.drop_duplicates()\n",
    "df = df.reset_index(drop=True)"
   ]
  },
  {
   "cell_type": "code",
   "execution_count": null,
   "id": "498af249",
   "metadata": {},
   "outputs": [],
   "source": [
    "# check for duplicate values after removing duplicates\n",
    "print(\"There are {} duplicate values.\".format(df.duplicated().sum()))\n",
    "df.head()"
   ]
  },
  {
   "cell_type": "code",
   "execution_count": null,
   "id": "05360bbe",
   "metadata": {},
   "outputs": [],
   "source": []
  },
  {
   "cell_type": "markdown",
   "id": "12ea67a0",
   "metadata": {},
   "source": [
    "## 2. Dealing with Outliers"
   ]
  },
  {
   "cell_type": "code",
   "execution_count": null,
   "id": "8dee58df",
   "metadata": {},
   "outputs": [],
   "source": [
    "#Boxplot to check outliers in income of the applicant\n",
    "sns.boxplot(x=df['Total_income'])\n",
    "plt.show()"
   ]
  },
  {
   "cell_type": "code",
   "execution_count": null,
   "id": "249b1db3",
   "metadata": {},
   "outputs": [],
   "source": [
    "# calculating IQR and upper limit and lower limit to find outliers\n",
    "Q1 = df.Total_income.quantile(0.25)\n",
    "Q3 = df.Total_income.quantile(0.75)\n",
    "IQR = Q3 - Q1\n",
    "upperlimit = Q3 + (IQR * 1.5)\n",
    "lowerlimit = Q1 - (IQR * 1.5)"
   ]
  },
  {
   "cell_type": "code",
   "execution_count": null,
   "id": "18af6533",
   "metadata": {},
   "outputs": [],
   "source": [
    "# Droping the rows containing height beyond lower and upper limit.\n",
    "df_1 = df[(df.Total_income > lowerlimit) & (df.Total_income < upperlimit)]\n",
    "df_1.shape"
   ]
  },
  {
   "cell_type": "code",
   "execution_count": null,
   "id": "3a4cb0cc",
   "metadata": {},
   "outputs": [],
   "source": [
    "sns.boxplot(x=df_1['Total_income'])\n",
    "plt.show()"
   ]
  },
  {
   "cell_type": "code",
   "execution_count": null,
   "id": "17f5ce48",
   "metadata": {},
   "outputs": [],
   "source": [
    "df_1.head()"
   ]
  },
  {
   "cell_type": "code",
   "execution_count": null,
   "id": "3fb3e155",
   "metadata": {},
   "outputs": [],
   "source": [
    "df_1.shape"
   ]
  },
  {
   "cell_type": "markdown",
   "id": "374e94ed",
   "metadata": {},
   "source": [
    "# Exploratory Data Analysis"
   ]
  },
  {
   "cell_type": "code",
   "execution_count": null,
   "id": "f8d2570a",
   "metadata": {},
   "outputs": [],
   "source": [
    "fig,ax = plt.subplots(2,3,figsize=(16,10))\n",
    "sns.countplot('Loan_Status', data=df_1,ax=ax[0][0])\n",
    "sns.countplot('Self_Employed', data=df_1,ax=ax[0][1])\n",
    "sns.countplot('Property_Area', data=df_1,ax=ax[0][2])\n",
    "sns.countplot('Credit_History', data=df_1,ax=ax[1][0])\n",
    "sns.countplot('Dependents', data=df_1,ax=ax[1][1])"
   ]
  },
  {
   "cell_type": "markdown",
   "id": "eb318906",
   "metadata": {},
   "source": [
    "# Numerical attributes visulaization\n"
   ]
  },
  {
   "cell_type": "code",
   "execution_count": null,
   "id": "0b63e462",
   "metadata": {},
   "outputs": [],
   "source": [
    "xdf = df_1.Total_income\n",
    "plt.hist(xdf,bins=10,rwidth=0.6)\n",
    "plt.title('Histogram of TotalIncome')\n",
    "plt.xlabel('Total_Income')\n",
    "plt.ylabel('Frequency')\n",
    "plt.show()"
   ]
  },
  {
   "cell_type": "code",
   "execution_count": null,
   "id": "bbad5149",
   "metadata": {},
   "outputs": [],
   "source": [
    "# # sns.distplot(df[\"LoanAmount\"])\n",
    "# xdf1 = df_1.LoanAmount\n",
    "# plt.hist(xdf1,bins=10,rwidth=0.8)\n",
    "# plt.title('Histogram of LoanAmount')\n",
    "# plt.xlabel('Loan_Amount')\n",
    "# plt.ylabel('Frequency')\n",
    "# plt.show()"
   ]
  },
  {
   "cell_type": "code",
   "execution_count": null,
   "id": "ecd408e4",
   "metadata": {},
   "outputs": [],
   "source": [
    "# sns.distplot(df_1[\"Loan_Amount_Term\"])"
   ]
  },
  {
   "cell_type": "code",
   "execution_count": null,
   "id": "7eb5bc61",
   "metadata": {
    "scrolled": true
   },
   "outputs": [],
   "source": [
    "sns.distplot(df_1['Credit_History'])"
   ]
  },
  {
   "cell_type": "code",
   "execution_count": null,
   "id": "5b285042",
   "metadata": {},
   "outputs": [],
   "source": [
    "sns.pairplot(df_1, hue = 'Loan_Status')\n",
    "plt.show()"
   ]
  },
  {
   "cell_type": "markdown",
   "id": "0866e563",
   "metadata": {},
   "source": [
    "## Correlation Matrix"
   ]
  },
  {
   "cell_type": "code",
   "execution_count": null,
   "id": "02ad423f",
   "metadata": {},
   "outputs": [],
   "source": [
    "corr = df_1.corr()\n",
    "sns.set(rc={'figure.figsize':(15,10)})\n",
    "sns.heatmap(data= corr,annot=True)\n",
    "\n",
    "plt.savefig(\"corr.png\", bbox_inches=\"tight\")\n",
    "plt.show()"
   ]
  },
  {
   "cell_type": "code",
   "execution_count": null,
   "id": "b3df783a",
   "metadata": {},
   "outputs": [],
   "source": [
    "#Separate the features from the label\n",
    "#The label here is the Loan_Status\n",
    "\n",
    "X = df_1.drop('Loan_Status', axis=1)\n",
    "y = df_1['Loan_Status']\n",
    "\n"
   ]
  },
  {
   "cell_type": "code",
   "execution_count": null,
   "id": "268e990e",
   "metadata": {},
   "outputs": [],
   "source": [
    "X.head()"
   ]
  },
  {
   "cell_type": "code",
   "execution_count": null,
   "id": "6685c43a",
   "metadata": {},
   "outputs": [],
   "source": [
    "y.head()"
   ]
  },
  {
   "cell_type": "code",
   "execution_count": null,
   "id": "d5165803",
   "metadata": {},
   "outputs": [],
   "source": [
    "#Split the data into training and testing sets\n",
    "from sklearn.model_selection import train_test_split\n",
    "X_train, x_test, Y_train, y_test = train_test_split(X, y , test_size = 0.30, shuffle = True,\n",
    "                                                    random_state=5)"
   ]
  },
  {
   "cell_type": "code",
   "execution_count": null,
   "id": "c81b8f07",
   "metadata": {},
   "outputs": [],
   "source": [
    "X_train.shape"
   ]
  },
  {
   "cell_type": "markdown",
   "id": "a75314e0",
   "metadata": {},
   "source": [
    "# Creating Pipeline for the model"
   ]
  },
  {
   "cell_type": "code",
   "execution_count": null,
   "id": "85b2fda9",
   "metadata": {},
   "outputs": [],
   "source": [
    "#Pipeline is to create a sequence of preprocessing actions\n",
    "from sklearn.pipeline import Pipeline\n",
    "\n",
    "#Standard Scaler normalise the numeric data so that large values does not\n",
    "#create biasness in the training\n",
    "\n",
    "#OneHotEndcoder converts categorical data to numerical, it also creates individual\n",
    "#for each option in the categories\n",
    "from sklearn.preprocessing import StandardScaler, MinMaxScaler, OneHotEncoder, OrdinalEncoder"
   ]
  },
  {
   "cell_type": "code",
   "execution_count": null,
   "id": "31ca86e2",
   "metadata": {},
   "outputs": [],
   "source": [
    "#Separate the Categorical and Numerical Columns\n",
    "#Numeric columns\n",
    "numeric_cols = X.select_dtypes(include=['int64','float64']).columns\n",
    "print(numeric_cols)\n",
    "\n",
    "#categorical columns\n",
    "categorical_cols = X.select_dtypes(include=['object']).columns\n",
    "print(categorical_cols)"
   ]
  },
  {
   "cell_type": "code",
   "execution_count": null,
   "id": "01ab822c",
   "metadata": {},
   "outputs": [],
   "source": [
    "numeric_index = [X.columns.get_loc(col) for col in numeric_cols]\n",
    "numeric_index"
   ]
  },
  {
   "cell_type": "code",
   "execution_count": null,
   "id": "2ab05034",
   "metadata": {},
   "outputs": [],
   "source": [
    "categorical_index = [X.columns.get_loc(col) for col in categorical_cols]\n",
    "categorical_index"
   ]
  },
  {
   "cell_type": "code",
   "execution_count": null,
   "id": "081c9fc3",
   "metadata": {},
   "outputs": [],
   "source": [
    "#Building the Numeric Transformation Pipeline\n",
    "numeric_transformer = Pipeline(steps = [\n",
    "    ('scaler',MinMaxScaler(feature_range = (0,1))) #Normalize the data\n",
    "] )\n",
    "\n",
    "categorical_transformer = Pipeline(steps = [\n",
    "    ('imputeC',SimpleImputer(strategy='most_frequent')), #Handline numeric missing value with median\n",
    "    ('oneHot',OneHotEncoder(handle_unknown='ignore')) #Normalize the data\n",
    "] )"
   ]
  },
  {
   "cell_type": "code",
   "execution_count": null,
   "id": "1442d922",
   "metadata": {},
   "outputs": [],
   "source": [
    "from sklearn.compose import ColumnTransformer\n",
    "preprocessor = ColumnTransformer(\n",
    "    transformers = [('numeric',numeric_transformer,numeric_index),\n",
    "                ('categorical',categorical_transformer,categorical_index)]\n",
    ")"
   ]
  },
  {
   "cell_type": "markdown",
   "id": "cb8445f2",
   "metadata": {},
   "source": [
    "# Using KNeighbours"
   ]
  },
  {
   "cell_type": "code",
   "execution_count": null,
   "id": "47905852",
   "metadata": {},
   "outputs": [],
   "source": [
    "from sklearn.neighbors import KNeighborsClassifier\n"
   ]
  },
  {
   "cell_type": "code",
   "execution_count": null,
   "id": "7ec05cfd",
   "metadata": {},
   "outputs": [],
   "source": [
    "error_rate = []\n",
    "\n",
    "for i in range(1,40):\n",
    "    knn = KNeighborsClassifier(n_neighbors=i)\n",
    "    knn_model = Pipeline(steps=\n",
    "                         [\n",
    "                            ('prep', preprocessor),\n",
    "                            ('est', knn)\n",
    "                        ])\n",
    "    knn_model.fit(X_train,Y_train)\n",
    "    pred_i = knn_model.predict(x_test)\n",
    "    error_rate.append(np.mean(pred_i != y_test))\n",
    "\n",
    "plt.figure(figsize=(10,6))\n",
    "plt.plot(range(1,40),error_rate,color='blue', linestyle='dashed', \n",
    "         marker='o',markerfacecolor='red', markersize=10)\n",
    "plt.title('Error Rate vs. K Value')\n",
    "plt.xlabel('K')\n",
    "plt.ylabel('Error Rate')\n",
    "print(\"Minimum error:-\",min(error_rate),\"at K =\",error_rate.index(min(error_rate)))"
   ]
  },
  {
   "cell_type": "code",
   "execution_count": null,
   "id": "a99ce89c",
   "metadata": {},
   "outputs": [],
   "source": [
    "\n",
    "acc = []\n",
    "# Will take some time\n",
    "from sklearn import metrics\n",
    "for i in range(1,40):\n",
    "    knn = KNeighborsClassifier(n_neighbors=i)\n",
    "    knn_model = Pipeline(steps=\n",
    "                         [\n",
    "                            ('prep', preprocessor),\n",
    "                            ('est', knn)\n",
    "                        ])\n",
    "    knn_model.fit(X_train,Y_train)\n",
    "    yhat = knn_model.predict(x_test)\n",
    "    acc.append(metrics.accuracy_score(y_test, yhat))\n",
    "    \n",
    "plt.figure(figsize=(10,6))\n",
    "plt.plot(range(1,40),acc,color = 'blue',linestyle='dashed', \n",
    "         marker='o',markerfacecolor='red', markersize=10)\n",
    "plt.title('accuracy vs. K Value')\n",
    "plt.xlabel('K')\n",
    "plt.ylabel('Accuracy')\n",
    "print(\"Maximum accuracy:-\",max(acc),\"at K =\",acc.index(max(acc)))"
   ]
  },
  {
   "cell_type": "code",
   "execution_count": null,
   "id": "91b97fb8",
   "metadata": {},
   "outputs": [],
   "source": [
    "knn = KNeighborsClassifier(n_neighbors = 24)"
   ]
  },
  {
   "cell_type": "code",
   "execution_count": null,
   "id": "8a6ac222",
   "metadata": {},
   "outputs": [],
   "source": [
    "knn_model = Pipeline(steps=\n",
    "                        [\n",
    "                            ('prep', preprocessor),\n",
    "                            ('est', knn)\n",
    "                        ])"
   ]
  },
  {
   "cell_type": "code",
   "execution_count": null,
   "id": "1a684d38",
   "metadata": {},
   "outputs": [],
   "source": [
    "from sklearn import set_config\n",
    "\n",
    "set_config(display='diagram')\n",
    "#fit data\n",
    "knn_model.fit(X_train, Y_train)"
   ]
  },
  {
   "cell_type": "code",
   "execution_count": null,
   "id": "73c4e6d4",
   "metadata": {},
   "outputs": [],
   "source": [
    "y_pred = knn_model.predict(x_test)\n",
    "print(y_pred)"
   ]
  },
  {
   "cell_type": "code",
   "execution_count": null,
   "id": "ee1e0f87",
   "metadata": {},
   "outputs": [],
   "source": [
    "#Summarise the fit of the model\n",
    "report1 = classification_report(y_test, y_pred, target_names=['Y','N'])\n",
    "print(\"Report : \\n{}\".format(report1))\n",
    "\n",
    "#Confusion Matrix\n",
    "cm1 = confusion_matrix(y_test, y_pred)\n",
    "# print(cm)\n",
    "sns.heatmap(cm1,annot=True,cmap='Blues')"
   ]
  },
  {
   "cell_type": "markdown",
   "id": "06b35621",
   "metadata": {},
   "source": [
    "# Model Score Checking"
   ]
  },
  {
   "cell_type": "code",
   "execution_count": null,
   "id": "24c20516",
   "metadata": {},
   "outputs": [],
   "source": [
    "knn_model.score(X_train, Y_train)"
   ]
  },
  {
   "cell_type": "code",
   "execution_count": null,
   "id": "2ca36841",
   "metadata": {},
   "outputs": [],
   "source": [
    "knn_model.score(x_test, y_test)"
   ]
  },
  {
   "cell_type": "markdown",
   "id": "012f98e9",
   "metadata": {},
   "source": [
    "# DecisionTreeClassifier"
   ]
  },
  {
   "cell_type": "code",
   "execution_count": null,
   "id": "f5fd6b58",
   "metadata": {},
   "outputs": [],
   "source": [
    "#Create the estimator for training\n",
    "from sklearn.tree import DecisionTreeClassifier\n",
    "\n",
    "#Create the model\n",
    "dtmodel = DecisionTreeClassifier()\n",
    "\n"
   ]
  },
  {
   "cell_type": "code",
   "execution_count": null,
   "id": "506ad8d5",
   "metadata": {},
   "outputs": [],
   "source": [
    "#Assemble the individual blocks to form the main pipeline\n",
    "testmodel = Pipeline(\n",
    "    steps = [\n",
    "      ('preprocessor', preprocessor), #Preprocessing\n",
    "      ('classifier'  , dtmodel)  #Model\n",
    "    ]\n",
    ")"
   ]
  },
  {
   "cell_type": "code",
   "execution_count": null,
   "id": "8955da32",
   "metadata": {},
   "outputs": [],
   "source": [
    "#Training the model using pipeline\n",
    "# Display Pipeline\n",
    "from sklearn import set_config\n",
    "set_config(display='diagram')\n",
    "#fit data\n",
    "testmodel.fit(X_train, Y_train)"
   ]
  },
  {
   "cell_type": "code",
   "execution_count": null,
   "id": "6f706caa",
   "metadata": {},
   "outputs": [],
   "source": [
    "y_pred1 = testmodel.predict(x_test)\n",
    "print(y_pred1)"
   ]
  },
  {
   "cell_type": "code",
   "execution_count": null,
   "id": "ec8c0671",
   "metadata": {},
   "outputs": [],
   "source": [
    "#Summarise the fit of the model\n",
    "report = classification_report(y_test, y_pred1, target_names=['Y','N'])\n",
    "print(\"Report : \\n{}\".format(report))\n",
    "\n",
    "#Confusion Matrix\n",
    "cm = confusion_matrix(y_test, y_pred1)\n",
    "# print(cm)\n",
    "sns.heatmap(cm,annot=True,cmap='Blues')"
   ]
  },
  {
   "cell_type": "code",
   "execution_count": null,
   "id": "76d6e18c",
   "metadata": {},
   "outputs": [],
   "source": [
    "testmodel.score(X_train, Y_train)"
   ]
  },
  {
   "cell_type": "code",
   "execution_count": null,
   "id": "e44a403d",
   "metadata": {},
   "outputs": [],
   "source": [
    "testmodel.score(x_test, y_test)"
   ]
  },
  {
   "cell_type": "markdown",
   "id": "a9e14417",
   "metadata": {},
   "source": [
    "# Logistic Regression"
   ]
  },
  {
   "cell_type": "code",
   "execution_count": null,
   "id": "ad7b4cf7",
   "metadata": {},
   "outputs": [],
   "source": [
    "from sklearn.linear_model import LogisticRegression\n",
    "estimater = LogisticRegression()"
   ]
  },
  {
   "cell_type": "code",
   "execution_count": null,
   "id": "7e72e966",
   "metadata": {},
   "outputs": [],
   "source": [
    "pipelinemodel = Pipeline(steps=\n",
    "                        [\n",
    "                            ('prep', preprocessor),\n",
    "                            ('est', estimater)\n",
    "                        ])"
   ]
  },
  {
   "cell_type": "code",
   "execution_count": null,
   "id": "eefcf43b",
   "metadata": {},
   "outputs": [],
   "source": [
    "#Training the model using pipeline\n",
    "# Display Pipeline\n",
    "from sklearn import set_config\n",
    "set_config(display='diagram')\n",
    "#fit data\n",
    "pipelinemodel.fit(X_train, Y_train)"
   ]
  },
  {
   "cell_type": "code",
   "execution_count": null,
   "id": "bfe84a96",
   "metadata": {},
   "outputs": [],
   "source": [
    "y_test.value_counts()"
   ]
  },
  {
   "cell_type": "code",
   "execution_count": null,
   "id": "9df618df",
   "metadata": {},
   "outputs": [],
   "source": [
    "y_pred2 = pipelinemodel.predict(x_test)\n",
    "print(y_pred2)"
   ]
  },
  {
   "cell_type": "code",
   "execution_count": null,
   "id": "f3968b99",
   "metadata": {},
   "outputs": [],
   "source": [
    "#Summarise the fit of the model\n",
    "report3 = classification_report(y_test, y_pred2, target_names=['Y','N'])\n",
    "print(\"Report : \\n{}\".format(report3))\n",
    "\n",
    "#Confusion Matrix\n",
    "cm = confusion_matrix(y_test, y_pred2)\n",
    "# print(cm)\n",
    "sns.heatmap(cm,annot=True,cmap='Blues')"
   ]
  },
  {
   "cell_type": "code",
   "execution_count": null,
   "id": "be43ab97",
   "metadata": {},
   "outputs": [],
   "source": [
    "pipelinemodel.score(X_train, Y_train)"
   ]
  },
  {
   "cell_type": "code",
   "execution_count": null,
   "id": "1407a537",
   "metadata": {},
   "outputs": [],
   "source": [
    "pipelinemodel.score(x_test,y_test)"
   ]
  },
  {
   "cell_type": "code",
   "execution_count": null,
   "id": "41de62b0",
   "metadata": {},
   "outputs": [],
   "source": []
  }
 ],
 "metadata": {
  "kernelspec": {
   "display_name": "Python 3 (ipykernel)",
   "language": "python",
   "name": "python3"
  },
  "language_info": {
   "codemirror_mode": {
    "name": "ipython",
    "version": 3
   },
   "file_extension": ".py",
   "mimetype": "text/x-python",
   "name": "python",
   "nbconvert_exporter": "python",
   "pygments_lexer": "ipython3",
   "version": "3.9.7"
  }
 },
 "nbformat": 4,
 "nbformat_minor": 5
}
